{
  "metadata": {
    "kernelspec": {
      "language": "python",
      "display_name": "Python 3",
      "name": "python3"
    },
    "language_info": {
      "pygments_lexer": "ipython3",
      "nbconvert_exporter": "python",
      "version": "3.6.4",
      "file_extension": ".py",
      "codemirror_mode": {
        "name": "ipython",
        "version": 3
      },
      "name": "python",
      "mimetype": "text/x-python"
    },
    "colab": {
      "provenance": []
    }
  },
  "nbformat_minor": 0,
  "nbformat": 4,
  "cells": [
    {
      "source": [
        "\n",
        "# IMPORTANT: RUN THIS CELL IN ORDER TO IMPORT YOUR KAGGLE DATA SOURCES\n",
        "# TO THE CORRECT LOCATION (/kaggle/input) IN YOUR NOTEBOOK,\n",
        "# THEN FEEL FREE TO DELETE THIS CELL.\n",
        "# NOTE: THIS NOTEBOOK ENVIRONMENT DIFFERS FROM KAGGLE'S PYTHON\n",
        "# ENVIRONMENT SO THERE MAY BE MISSING LIBRARIES USED BY YOUR\n",
        "# NOTEBOOK.\n",
        "\n",
        "import os\n",
        "import sys\n",
        "from tempfile import NamedTemporaryFile\n",
        "from urllib.request import urlopen\n",
        "from urllib.parse import unquote, urlparse\n",
        "from urllib.error import HTTPError\n",
        "from zipfile import ZipFile\n",
        "import tarfile\n",
        "import shutil\n",
        "\n",
        "CHUNK_SIZE = 40960\n",
        "DATA_SOURCE_MAPPING = 'thyroid-disease-data-set:https%3A%2F%2Fstorage.googleapis.com%2Fkaggle-data-sets%2F1027034%2F1730566%2Fbundle%2Farchive.zip%3FX-Goog-Algorithm%3DGOOG4-RSA-SHA256%26X-Goog-Credential%3Dgcp-kaggle-com%2540kaggle-161607.iam.gserviceaccount.com%252F20240622%252Fauto%252Fstorage%252Fgoog4_request%26X-Goog-Date%3D20240622T085207Z%26X-Goog-Expires%3D259200%26X-Goog-SignedHeaders%3Dhost%26X-Goog-Signature%3D2bc981e0143fa7a37f37a4814f289599c505f8d19c697db5020b9b1c02cb04c8da07384b52a28b04821836a0ae35fb822b8c90433ceb0cd558ba28eb851f6dde5adad21f3984c9d127fe1a34231bfa0fb6bb38394676cb4597a5212d68498725ee5ec10c3972369e450a51d2bea1141043d738dc6dba4b35ed3a3bdcb0f8650c3c245d7067447eab6aa89e96e6cd65092e20474b4e17f107cd794e32040eaec81a4377cb9675af80163d79a2e98351913e54140311a80aba8cd4e2b9a13d43b728204250acaf865a50429e5daab6c569d0d5266beb728de82b56e5356322edfeb625a782dff09d199b8fad9bd587626ff16d6683c9d77e3d2a157c0fa4bf2a3f'\n",
        "\n",
        "KAGGLE_INPUT_PATH='/kaggle/input'\n",
        "KAGGLE_WORKING_PATH='/kaggle/working'\n",
        "KAGGLE_SYMLINK='kaggle'\n",
        "\n",
        "!umount /kaggle/input/ 2> /dev/null\n",
        "shutil.rmtree('/kaggle/input', ignore_errors=True)\n",
        "os.makedirs(KAGGLE_INPUT_PATH, 0o777, exist_ok=True)\n",
        "os.makedirs(KAGGLE_WORKING_PATH, 0o777, exist_ok=True)\n",
        "\n",
        "try:\n",
        "  os.symlink(KAGGLE_INPUT_PATH, os.path.join(\"..\", 'input'), target_is_directory=True)\n",
        "except FileExistsError:\n",
        "  pass\n",
        "try:\n",
        "  os.symlink(KAGGLE_WORKING_PATH, os.path.join(\"..\", 'working'), target_is_directory=True)\n",
        "except FileExistsError:\n",
        "  pass\n",
        "\n",
        "for data_source_mapping in DATA_SOURCE_MAPPING.split(','):\n",
        "    directory, download_url_encoded = data_source_mapping.split(':')\n",
        "    download_url = unquote(download_url_encoded)\n",
        "    filename = urlparse(download_url).path\n",
        "    destination_path = os.path.join(KAGGLE_INPUT_PATH, directory)\n",
        "    try:\n",
        "        with urlopen(download_url) as fileres, NamedTemporaryFile() as tfile:\n",
        "            total_length = fileres.headers['content-length']\n",
        "            print(f'Downloading {directory}, {total_length} bytes compressed')\n",
        "            dl = 0\n",
        "            data = fileres.read(CHUNK_SIZE)\n",
        "            while len(data) > 0:\n",
        "                dl += len(data)\n",
        "                tfile.write(data)\n",
        "                done = int(50 * dl / int(total_length))\n",
        "                sys.stdout.write(f\"\\r[{'=' * done}{' ' * (50-done)}] {dl} bytes downloaded\")\n",
        "                sys.stdout.flush()\n",
        "                data = fileres.read(CHUNK_SIZE)\n",
        "            if filename.endswith('.zip'):\n",
        "              with ZipFile(tfile) as zfile:\n",
        "                zfile.extractall(destination_path)\n",
        "            else:\n",
        "              with tarfile.open(tfile.name) as tarfile:\n",
        "                tarfile.extractall(destination_path)\n",
        "            print(f'\\nDownloaded and uncompressed: {directory}')\n",
        "    except HTTPError as e:\n",
        "        print(f'Failed to load (likely expired) {download_url} to path {destination_path}')\n",
        "        continue\n",
        "    except OSError as e:\n",
        "        print(f'Failed to load {download_url} to path {destination_path}')\n",
        "        continue\n",
        "\n",
        "print('Data source import complete.')\n"
      ],
      "metadata": {
        "id": "0v-Dn3WQJQmD",
        "outputId": "3f388856-8cf4-48fa-ce8b-d03b36ffe933",
        "colab": {
          "base_uri": "https://localhost:8080/"
        }
      },
      "cell_type": "code",
      "outputs": [
        {
          "output_type": "stream",
          "name": "stdout",
          "text": [
            "Downloading thyroid-disease-data-set, 49962 bytes compressed\n",
            "[==================================================] 49962 bytes downloaded\n",
            "Downloaded and uncompressed: thyroid-disease-data-set\n",
            "Data source import complete.\n"
          ]
        }
      ],
      "execution_count": 1
    },
    {
      "cell_type": "markdown",
      "source": [
        "## **Introduction**"
      ],
      "metadata": {
        "id": "a6qfaxG7JQmJ"
      }
    },
    {
      "cell_type": "markdown",
      "source": [
        "## **Import Libraries**"
      ],
      "metadata": {
        "id": "QyL6CpH0JQmL"
      }
    },
    {
      "cell_type": "code",
      "source": [
        "#pandas\n",
        "import pandas as pd\n",
        "\n",
        "#numpy\n",
        "import numpy as np\n",
        "\n",
        "#matplotlib\n",
        "import matplotlib.pyplot as plt\n",
        "\n",
        "#seaborn\n",
        "import seaborn as sns\n",
        "\n",
        "#sklearn\n",
        "from sklearn.linear_model import LogisticRegression\n",
        "from sklearn.svm import SVC\n",
        "from sklearn.metrics import classification_report,f1_score\n",
        "from sklearn.ensemble import RandomForestClassifier\n",
        "from sklearn.preprocessing import LabelEncoder\n",
        "from imblearn.over_sampling import SMOTE\n",
        "from sklearn.model_selection import train_test_split\n",
        "from sklearn.preprocessing import MinMaxScaler\n",
        "from sklearn.tree import DecisionTreeClassifier\n",
        "from sklearn.neighbors import KNeighborsClassifier\n",
        "import pickle\n",
        "import warnings\n"
      ],
      "metadata": {
        "execution": {
          "iopub.status.busy": "2023-05-22T13:27:02.163434Z",
          "iopub.execute_input": "2023-05-22T13:27:02.16379Z",
          "iopub.status.idle": "2023-05-22T13:27:02.173253Z",
          "shell.execute_reply.started": "2023-05-22T13:27:02.163746Z",
          "shell.execute_reply": "2023-05-22T13:27:02.171899Z"
        },
        "trusted": true,
        "id": "JrnDMdtCJQmL"
      },
      "execution_count": 2,
      "outputs": []
    },
    {
      "cell_type": "markdown",
      "source": [
        "## **Read data from csv**"
      ],
      "metadata": {
        "id": "D8wl7ou2JQmM"
      }
    },
    {
      "cell_type": "code",
      "source": [
        "thyroid_df = pd.read_csv('/hypothyroid.csv')\n",
        "thyroid_df.head(n=20)"
      ],
      "metadata": {
        "execution": {
          "iopub.status.busy": "2023-05-22T13:27:02.175618Z",
          "iopub.execute_input": "2023-05-22T13:27:02.176094Z",
          "iopub.status.idle": "2023-05-22T13:27:02.236428Z",
          "shell.execute_reply.started": "2023-05-22T13:27:02.176041Z",
          "shell.execute_reply": "2023-05-22T13:27:02.235322Z"
        },
        "trusted": true,
        "id": "Uo9Jaq16JQmM",
        "outputId": "3a5ae226-5f83-483f-d70f-191a7d7e67f6",
        "colab": {
          "base_uri": "https://localhost:8080/",
          "height": 760
        }
      },
      "execution_count": 42,
      "outputs": [
        {
          "output_type": "execute_result",
          "data": {
            "text/plain": [
              "   age sex on thyroxine query on thyroxine on antithyroid medication sick  \\\n",
              "0   41   F            f                  f                         f    f   \n",
              "1   23   F            f                  f                         f    f   \n",
              "2   46   M            f                  f                         f    f   \n",
              "3   70   F            t                  f                         f    f   \n",
              "4   70   F            f                  f                         f    f   \n",
              "5   18   F            t                  f                         f    f   \n",
              "6   59   F            f                  f                         f    f   \n",
              "7   80   F            f                  f                         f    f   \n",
              "8   66   F            f                  f                         f    f   \n",
              "9   68   M            f                  f                         f    f   \n",
              "10  84   F            f                  f                         f    f   \n",
              "11  67   F            t                  f                         f    f   \n",
              "12  71   F            f                  f                         f    t   \n",
              "13  59   F            f                  f                         f    f   \n",
              "14  28   M            f                  f                         f    f   \n",
              "15  65   F            f                  f                         f    f   \n",
              "16  42   ?            f                  f                         f    f   \n",
              "17  63   F            f                  f                         f    f   \n",
              "18  80   F            f                  f                         f    f   \n",
              "19  28   M            f                  f                         f    f   \n",
              "\n",
              "   pregnant thyroid surgery I131 treatment query hypothyroid  ...  \\\n",
              "0         f               f              f                 f  ...   \n",
              "1         f               f              f                 f  ...   \n",
              "2         f               f              f                 f  ...   \n",
              "3         f               f              f                 f  ...   \n",
              "4         f               f              f                 f  ...   \n",
              "5         f               f              f                 f  ...   \n",
              "6         f               f              f                 f  ...   \n",
              "7         f               f              f                 f  ...   \n",
              "8         f               f              f                 f  ...   \n",
              "9         f               f              f                 f  ...   \n",
              "10        f               f              f                 f  ...   \n",
              "11        f               f              f                 f  ...   \n",
              "12        f               f              f                 f  ...   \n",
              "13        f               f              f                 f  ...   \n",
              "14        f               f              f                 f  ...   \n",
              "15        f               f              f                 t  ...   \n",
              "16        f               f              f                 f  ...   \n",
              "17        f               f              f                 f  ...   \n",
              "18        f               f              f                 f  ...   \n",
              "19        f               f              f                 f  ...   \n",
              "\n",
              "   TT4 measured  TT4 T4U measured   T4U FTI measured  FTI TBG measured TBG  \\\n",
              "0             t  125            t  1.14            t  109            f   ?   \n",
              "1             t  102            f     ?            f    ?            f   ?   \n",
              "2             t  109            t  0.91            t  120            f   ?   \n",
              "3             t  175            f     ?            f    ?            f   ?   \n",
              "4             t   61            t  0.87            t   70            f   ?   \n",
              "5             t  183            t   1.3            t  141            f   ?   \n",
              "6             t   72            t  0.92            t   78            f   ?   \n",
              "7             t   80            t   0.7            t  115            f   ?   \n",
              "8             t  123            t  0.93            t  132            f   ?   \n",
              "9             t   83            t  0.89            t   93            f   ?   \n",
              "10            t  115            t  0.95            t  121            f   ?   \n",
              "11            t  152            t  0.99            t  153            f   ?   \n",
              "12            t  171            t  1.13            t  151            f   ?   \n",
              "13            t   97            t  0.91            t  107            f   ?   \n",
              "14            t  109            t  0.91            t  119            f   ?   \n",
              "15            t   99            t  1.14            t   87            f   ?   \n",
              "16            t   70            t  0.86            t   81            f   ?   \n",
              "17            t  117            t  0.96            t  121            f   ?   \n",
              "18            t   99            t  0.95            t  104            f   ?   \n",
              "19            t  121            t  0.94            t  130            f   ?   \n",
              "\n",
              "   referral source binaryClass  \n",
              "0             SVHC           P  \n",
              "1            other           P  \n",
              "2            other           P  \n",
              "3            other           P  \n",
              "4              SVI           P  \n",
              "5            other           P  \n",
              "6            other           P  \n",
              "7              SVI           P  \n",
              "8              SVI           P  \n",
              "9              SVI           P  \n",
              "10             SVI           P  \n",
              "11           other           P  \n",
              "12           other           P  \n",
              "13             SVI           P  \n",
              "14            SVHC           P  \n",
              "15           other           N  \n",
              "16           other           P  \n",
              "17             SVI           P  \n",
              "18             SVI           P  \n",
              "19            SVHC           P  \n",
              "\n",
              "[20 rows x 30 columns]"
            ],
            "text/html": [
              "\n",
              "  <div id=\"df-f8db9a82-9ac2-4b48-a016-56f6098705fc\" class=\"colab-df-container\">\n",
              "    <div>\n",
              "<style scoped>\n",
              "    .dataframe tbody tr th:only-of-type {\n",
              "        vertical-align: middle;\n",
              "    }\n",
              "\n",
              "    .dataframe tbody tr th {\n",
              "        vertical-align: top;\n",
              "    }\n",
              "\n",
              "    .dataframe thead th {\n",
              "        text-align: right;\n",
              "    }\n",
              "</style>\n",
              "<table border=\"1\" class=\"dataframe\">\n",
              "  <thead>\n",
              "    <tr style=\"text-align: right;\">\n",
              "      <th></th>\n",
              "      <th>age</th>\n",
              "      <th>sex</th>\n",
              "      <th>on thyroxine</th>\n",
              "      <th>query on thyroxine</th>\n",
              "      <th>on antithyroid medication</th>\n",
              "      <th>sick</th>\n",
              "      <th>pregnant</th>\n",
              "      <th>thyroid surgery</th>\n",
              "      <th>I131 treatment</th>\n",
              "      <th>query hypothyroid</th>\n",
              "      <th>...</th>\n",
              "      <th>TT4 measured</th>\n",
              "      <th>TT4</th>\n",
              "      <th>T4U measured</th>\n",
              "      <th>T4U</th>\n",
              "      <th>FTI measured</th>\n",
              "      <th>FTI</th>\n",
              "      <th>TBG measured</th>\n",
              "      <th>TBG</th>\n",
              "      <th>referral source</th>\n",
              "      <th>binaryClass</th>\n",
              "    </tr>\n",
              "  </thead>\n",
              "  <tbody>\n",
              "    <tr>\n",
              "      <th>0</th>\n",
              "      <td>41</td>\n",
              "      <td>F</td>\n",
              "      <td>f</td>\n",
              "      <td>f</td>\n",
              "      <td>f</td>\n",
              "      <td>f</td>\n",
              "      <td>f</td>\n",
              "      <td>f</td>\n",
              "      <td>f</td>\n",
              "      <td>f</td>\n",
              "      <td>...</td>\n",
              "      <td>t</td>\n",
              "      <td>125</td>\n",
              "      <td>t</td>\n",
              "      <td>1.14</td>\n",
              "      <td>t</td>\n",
              "      <td>109</td>\n",
              "      <td>f</td>\n",
              "      <td>?</td>\n",
              "      <td>SVHC</td>\n",
              "      <td>P</td>\n",
              "    </tr>\n",
              "    <tr>\n",
              "      <th>1</th>\n",
              "      <td>23</td>\n",
              "      <td>F</td>\n",
              "      <td>f</td>\n",
              "      <td>f</td>\n",
              "      <td>f</td>\n",
              "      <td>f</td>\n",
              "      <td>f</td>\n",
              "      <td>f</td>\n",
              "      <td>f</td>\n",
              "      <td>f</td>\n",
              "      <td>...</td>\n",
              "      <td>t</td>\n",
              "      <td>102</td>\n",
              "      <td>f</td>\n",
              "      <td>?</td>\n",
              "      <td>f</td>\n",
              "      <td>?</td>\n",
              "      <td>f</td>\n",
              "      <td>?</td>\n",
              "      <td>other</td>\n",
              "      <td>P</td>\n",
              "    </tr>\n",
              "    <tr>\n",
              "      <th>2</th>\n",
              "      <td>46</td>\n",
              "      <td>M</td>\n",
              "      <td>f</td>\n",
              "      <td>f</td>\n",
              "      <td>f</td>\n",
              "      <td>f</td>\n",
              "      <td>f</td>\n",
              "      <td>f</td>\n",
              "      <td>f</td>\n",
              "      <td>f</td>\n",
              "      <td>...</td>\n",
              "      <td>t</td>\n",
              "      <td>109</td>\n",
              "      <td>t</td>\n",
              "      <td>0.91</td>\n",
              "      <td>t</td>\n",
              "      <td>120</td>\n",
              "      <td>f</td>\n",
              "      <td>?</td>\n",
              "      <td>other</td>\n",
              "      <td>P</td>\n",
              "    </tr>\n",
              "    <tr>\n",
              "      <th>3</th>\n",
              "      <td>70</td>\n",
              "      <td>F</td>\n",
              "      <td>t</td>\n",
              "      <td>f</td>\n",
              "      <td>f</td>\n",
              "      <td>f</td>\n",
              "      <td>f</td>\n",
              "      <td>f</td>\n",
              "      <td>f</td>\n",
              "      <td>f</td>\n",
              "      <td>...</td>\n",
              "      <td>t</td>\n",
              "      <td>175</td>\n",
              "      <td>f</td>\n",
              "      <td>?</td>\n",
              "      <td>f</td>\n",
              "      <td>?</td>\n",
              "      <td>f</td>\n",
              "      <td>?</td>\n",
              "      <td>other</td>\n",
              "      <td>P</td>\n",
              "    </tr>\n",
              "    <tr>\n",
              "      <th>4</th>\n",
              "      <td>70</td>\n",
              "      <td>F</td>\n",
              "      <td>f</td>\n",
              "      <td>f</td>\n",
              "      <td>f</td>\n",
              "      <td>f</td>\n",
              "      <td>f</td>\n",
              "      <td>f</td>\n",
              "      <td>f</td>\n",
              "      <td>f</td>\n",
              "      <td>...</td>\n",
              "      <td>t</td>\n",
              "      <td>61</td>\n",
              "      <td>t</td>\n",
              "      <td>0.87</td>\n",
              "      <td>t</td>\n",
              "      <td>70</td>\n",
              "      <td>f</td>\n",
              "      <td>?</td>\n",
              "      <td>SVI</td>\n",
              "      <td>P</td>\n",
              "    </tr>\n",
              "    <tr>\n",
              "      <th>5</th>\n",
              "      <td>18</td>\n",
              "      <td>F</td>\n",
              "      <td>t</td>\n",
              "      <td>f</td>\n",
              "      <td>f</td>\n",
              "      <td>f</td>\n",
              "      <td>f</td>\n",
              "      <td>f</td>\n",
              "      <td>f</td>\n",
              "      <td>f</td>\n",
              "      <td>...</td>\n",
              "      <td>t</td>\n",
              "      <td>183</td>\n",
              "      <td>t</td>\n",
              "      <td>1.3</td>\n",
              "      <td>t</td>\n",
              "      <td>141</td>\n",
              "      <td>f</td>\n",
              "      <td>?</td>\n",
              "      <td>other</td>\n",
              "      <td>P</td>\n",
              "    </tr>\n",
              "    <tr>\n",
              "      <th>6</th>\n",
              "      <td>59</td>\n",
              "      <td>F</td>\n",
              "      <td>f</td>\n",
              "      <td>f</td>\n",
              "      <td>f</td>\n",
              "      <td>f</td>\n",
              "      <td>f</td>\n",
              "      <td>f</td>\n",
              "      <td>f</td>\n",
              "      <td>f</td>\n",
              "      <td>...</td>\n",
              "      <td>t</td>\n",
              "      <td>72</td>\n",
              "      <td>t</td>\n",
              "      <td>0.92</td>\n",
              "      <td>t</td>\n",
              "      <td>78</td>\n",
              "      <td>f</td>\n",
              "      <td>?</td>\n",
              "      <td>other</td>\n",
              "      <td>P</td>\n",
              "    </tr>\n",
              "    <tr>\n",
              "      <th>7</th>\n",
              "      <td>80</td>\n",
              "      <td>F</td>\n",
              "      <td>f</td>\n",
              "      <td>f</td>\n",
              "      <td>f</td>\n",
              "      <td>f</td>\n",
              "      <td>f</td>\n",
              "      <td>f</td>\n",
              "      <td>f</td>\n",
              "      <td>f</td>\n",
              "      <td>...</td>\n",
              "      <td>t</td>\n",
              "      <td>80</td>\n",
              "      <td>t</td>\n",
              "      <td>0.7</td>\n",
              "      <td>t</td>\n",
              "      <td>115</td>\n",
              "      <td>f</td>\n",
              "      <td>?</td>\n",
              "      <td>SVI</td>\n",
              "      <td>P</td>\n",
              "    </tr>\n",
              "    <tr>\n",
              "      <th>8</th>\n",
              "      <td>66</td>\n",
              "      <td>F</td>\n",
              "      <td>f</td>\n",
              "      <td>f</td>\n",
              "      <td>f</td>\n",
              "      <td>f</td>\n",
              "      <td>f</td>\n",
              "      <td>f</td>\n",
              "      <td>f</td>\n",
              "      <td>f</td>\n",
              "      <td>...</td>\n",
              "      <td>t</td>\n",
              "      <td>123</td>\n",
              "      <td>t</td>\n",
              "      <td>0.93</td>\n",
              "      <td>t</td>\n",
              "      <td>132</td>\n",
              "      <td>f</td>\n",
              "      <td>?</td>\n",
              "      <td>SVI</td>\n",
              "      <td>P</td>\n",
              "    </tr>\n",
              "    <tr>\n",
              "      <th>9</th>\n",
              "      <td>68</td>\n",
              "      <td>M</td>\n",
              "      <td>f</td>\n",
              "      <td>f</td>\n",
              "      <td>f</td>\n",
              "      <td>f</td>\n",
              "      <td>f</td>\n",
              "      <td>f</td>\n",
              "      <td>f</td>\n",
              "      <td>f</td>\n",
              "      <td>...</td>\n",
              "      <td>t</td>\n",
              "      <td>83</td>\n",
              "      <td>t</td>\n",
              "      <td>0.89</td>\n",
              "      <td>t</td>\n",
              "      <td>93</td>\n",
              "      <td>f</td>\n",
              "      <td>?</td>\n",
              "      <td>SVI</td>\n",
              "      <td>P</td>\n",
              "    </tr>\n",
              "    <tr>\n",
              "      <th>10</th>\n",
              "      <td>84</td>\n",
              "      <td>F</td>\n",
              "      <td>f</td>\n",
              "      <td>f</td>\n",
              "      <td>f</td>\n",
              "      <td>f</td>\n",
              "      <td>f</td>\n",
              "      <td>f</td>\n",
              "      <td>f</td>\n",
              "      <td>f</td>\n",
              "      <td>...</td>\n",
              "      <td>t</td>\n",
              "      <td>115</td>\n",
              "      <td>t</td>\n",
              "      <td>0.95</td>\n",
              "      <td>t</td>\n",
              "      <td>121</td>\n",
              "      <td>f</td>\n",
              "      <td>?</td>\n",
              "      <td>SVI</td>\n",
              "      <td>P</td>\n",
              "    </tr>\n",
              "    <tr>\n",
              "      <th>11</th>\n",
              "      <td>67</td>\n",
              "      <td>F</td>\n",
              "      <td>t</td>\n",
              "      <td>f</td>\n",
              "      <td>f</td>\n",
              "      <td>f</td>\n",
              "      <td>f</td>\n",
              "      <td>f</td>\n",
              "      <td>f</td>\n",
              "      <td>f</td>\n",
              "      <td>...</td>\n",
              "      <td>t</td>\n",
              "      <td>152</td>\n",
              "      <td>t</td>\n",
              "      <td>0.99</td>\n",
              "      <td>t</td>\n",
              "      <td>153</td>\n",
              "      <td>f</td>\n",
              "      <td>?</td>\n",
              "      <td>other</td>\n",
              "      <td>P</td>\n",
              "    </tr>\n",
              "    <tr>\n",
              "      <th>12</th>\n",
              "      <td>71</td>\n",
              "      <td>F</td>\n",
              "      <td>f</td>\n",
              "      <td>f</td>\n",
              "      <td>f</td>\n",
              "      <td>t</td>\n",
              "      <td>f</td>\n",
              "      <td>f</td>\n",
              "      <td>f</td>\n",
              "      <td>f</td>\n",
              "      <td>...</td>\n",
              "      <td>t</td>\n",
              "      <td>171</td>\n",
              "      <td>t</td>\n",
              "      <td>1.13</td>\n",
              "      <td>t</td>\n",
              "      <td>151</td>\n",
              "      <td>f</td>\n",
              "      <td>?</td>\n",
              "      <td>other</td>\n",
              "      <td>P</td>\n",
              "    </tr>\n",
              "    <tr>\n",
              "      <th>13</th>\n",
              "      <td>59</td>\n",
              "      <td>F</td>\n",
              "      <td>f</td>\n",
              "      <td>f</td>\n",
              "      <td>f</td>\n",
              "      <td>f</td>\n",
              "      <td>f</td>\n",
              "      <td>f</td>\n",
              "      <td>f</td>\n",
              "      <td>f</td>\n",
              "      <td>...</td>\n",
              "      <td>t</td>\n",
              "      <td>97</td>\n",
              "      <td>t</td>\n",
              "      <td>0.91</td>\n",
              "      <td>t</td>\n",
              "      <td>107</td>\n",
              "      <td>f</td>\n",
              "      <td>?</td>\n",
              "      <td>SVI</td>\n",
              "      <td>P</td>\n",
              "    </tr>\n",
              "    <tr>\n",
              "      <th>14</th>\n",
              "      <td>28</td>\n",
              "      <td>M</td>\n",
              "      <td>f</td>\n",
              "      <td>f</td>\n",
              "      <td>f</td>\n",
              "      <td>f</td>\n",
              "      <td>f</td>\n",
              "      <td>f</td>\n",
              "      <td>f</td>\n",
              "      <td>f</td>\n",
              "      <td>...</td>\n",
              "      <td>t</td>\n",
              "      <td>109</td>\n",
              "      <td>t</td>\n",
              "      <td>0.91</td>\n",
              "      <td>t</td>\n",
              "      <td>119</td>\n",
              "      <td>f</td>\n",
              "      <td>?</td>\n",
              "      <td>SVHC</td>\n",
              "      <td>P</td>\n",
              "    </tr>\n",
              "    <tr>\n",
              "      <th>15</th>\n",
              "      <td>65</td>\n",
              "      <td>F</td>\n",
              "      <td>f</td>\n",
              "      <td>f</td>\n",
              "      <td>f</td>\n",
              "      <td>f</td>\n",
              "      <td>f</td>\n",
              "      <td>f</td>\n",
              "      <td>f</td>\n",
              "      <td>t</td>\n",
              "      <td>...</td>\n",
              "      <td>t</td>\n",
              "      <td>99</td>\n",
              "      <td>t</td>\n",
              "      <td>1.14</td>\n",
              "      <td>t</td>\n",
              "      <td>87</td>\n",
              "      <td>f</td>\n",
              "      <td>?</td>\n",
              "      <td>other</td>\n",
              "      <td>N</td>\n",
              "    </tr>\n",
              "    <tr>\n",
              "      <th>16</th>\n",
              "      <td>42</td>\n",
              "      <td>?</td>\n",
              "      <td>f</td>\n",
              "      <td>f</td>\n",
              "      <td>f</td>\n",
              "      <td>f</td>\n",
              "      <td>f</td>\n",
              "      <td>f</td>\n",
              "      <td>f</td>\n",
              "      <td>f</td>\n",
              "      <td>...</td>\n",
              "      <td>t</td>\n",
              "      <td>70</td>\n",
              "      <td>t</td>\n",
              "      <td>0.86</td>\n",
              "      <td>t</td>\n",
              "      <td>81</td>\n",
              "      <td>f</td>\n",
              "      <td>?</td>\n",
              "      <td>other</td>\n",
              "      <td>P</td>\n",
              "    </tr>\n",
              "    <tr>\n",
              "      <th>17</th>\n",
              "      <td>63</td>\n",
              "      <td>F</td>\n",
              "      <td>f</td>\n",
              "      <td>f</td>\n",
              "      <td>f</td>\n",
              "      <td>f</td>\n",
              "      <td>f</td>\n",
              "      <td>f</td>\n",
              "      <td>f</td>\n",
              "      <td>f</td>\n",
              "      <td>...</td>\n",
              "      <td>t</td>\n",
              "      <td>117</td>\n",
              "      <td>t</td>\n",
              "      <td>0.96</td>\n",
              "      <td>t</td>\n",
              "      <td>121</td>\n",
              "      <td>f</td>\n",
              "      <td>?</td>\n",
              "      <td>SVI</td>\n",
              "      <td>P</td>\n",
              "    </tr>\n",
              "    <tr>\n",
              "      <th>18</th>\n",
              "      <td>80</td>\n",
              "      <td>F</td>\n",
              "      <td>f</td>\n",
              "      <td>f</td>\n",
              "      <td>f</td>\n",
              "      <td>f</td>\n",
              "      <td>f</td>\n",
              "      <td>f</td>\n",
              "      <td>f</td>\n",
              "      <td>f</td>\n",
              "      <td>...</td>\n",
              "      <td>t</td>\n",
              "      <td>99</td>\n",
              "      <td>t</td>\n",
              "      <td>0.95</td>\n",
              "      <td>t</td>\n",
              "      <td>104</td>\n",
              "      <td>f</td>\n",
              "      <td>?</td>\n",
              "      <td>SVI</td>\n",
              "      <td>P</td>\n",
              "    </tr>\n",
              "    <tr>\n",
              "      <th>19</th>\n",
              "      <td>28</td>\n",
              "      <td>M</td>\n",
              "      <td>f</td>\n",
              "      <td>f</td>\n",
              "      <td>f</td>\n",
              "      <td>f</td>\n",
              "      <td>f</td>\n",
              "      <td>f</td>\n",
              "      <td>f</td>\n",
              "      <td>f</td>\n",
              "      <td>...</td>\n",
              "      <td>t</td>\n",
              "      <td>121</td>\n",
              "      <td>t</td>\n",
              "      <td>0.94</td>\n",
              "      <td>t</td>\n",
              "      <td>130</td>\n",
              "      <td>f</td>\n",
              "      <td>?</td>\n",
              "      <td>SVHC</td>\n",
              "      <td>P</td>\n",
              "    </tr>\n",
              "  </tbody>\n",
              "</table>\n",
              "<p>20 rows × 30 columns</p>\n",
              "</div>\n",
              "    <div class=\"colab-df-buttons\">\n",
              "\n",
              "  <div class=\"colab-df-container\">\n",
              "    <button class=\"colab-df-convert\" onclick=\"convertToInteractive('df-f8db9a82-9ac2-4b48-a016-56f6098705fc')\"\n",
              "            title=\"Convert this dataframe to an interactive table.\"\n",
              "            style=\"display:none;\">\n",
              "\n",
              "  <svg xmlns=\"http://www.w3.org/2000/svg\" height=\"24px\" viewBox=\"0 -960 960 960\">\n",
              "    <path d=\"M120-120v-720h720v720H120Zm60-500h600v-160H180v160Zm220 220h160v-160H400v160Zm0 220h160v-160H400v160ZM180-400h160v-160H180v160Zm440 0h160v-160H620v160ZM180-180h160v-160H180v160Zm440 0h160v-160H620v160Z\"/>\n",
              "  </svg>\n",
              "    </button>\n",
              "\n",
              "  <style>\n",
              "    .colab-df-container {\n",
              "      display:flex;\n",
              "      gap: 12px;\n",
              "    }\n",
              "\n",
              "    .colab-df-convert {\n",
              "      background-color: #E8F0FE;\n",
              "      border: none;\n",
              "      border-radius: 50%;\n",
              "      cursor: pointer;\n",
              "      display: none;\n",
              "      fill: #1967D2;\n",
              "      height: 32px;\n",
              "      padding: 0 0 0 0;\n",
              "      width: 32px;\n",
              "    }\n",
              "\n",
              "    .colab-df-convert:hover {\n",
              "      background-color: #E2EBFA;\n",
              "      box-shadow: 0px 1px 2px rgba(60, 64, 67, 0.3), 0px 1px 3px 1px rgba(60, 64, 67, 0.15);\n",
              "      fill: #174EA6;\n",
              "    }\n",
              "\n",
              "    .colab-df-buttons div {\n",
              "      margin-bottom: 4px;\n",
              "    }\n",
              "\n",
              "    [theme=dark] .colab-df-convert {\n",
              "      background-color: #3B4455;\n",
              "      fill: #D2E3FC;\n",
              "    }\n",
              "\n",
              "    [theme=dark] .colab-df-convert:hover {\n",
              "      background-color: #434B5C;\n",
              "      box-shadow: 0px 1px 3px 1px rgba(0, 0, 0, 0.15);\n",
              "      filter: drop-shadow(0px 1px 2px rgba(0, 0, 0, 0.3));\n",
              "      fill: #FFFFFF;\n",
              "    }\n",
              "  </style>\n",
              "\n",
              "    <script>\n",
              "      const buttonEl =\n",
              "        document.querySelector('#df-f8db9a82-9ac2-4b48-a016-56f6098705fc button.colab-df-convert');\n",
              "      buttonEl.style.display =\n",
              "        google.colab.kernel.accessAllowed ? 'block' : 'none';\n",
              "\n",
              "      async function convertToInteractive(key) {\n",
              "        const element = document.querySelector('#df-f8db9a82-9ac2-4b48-a016-56f6098705fc');\n",
              "        const dataTable =\n",
              "          await google.colab.kernel.invokeFunction('convertToInteractive',\n",
              "                                                    [key], {});\n",
              "        if (!dataTable) return;\n",
              "\n",
              "        const docLinkHtml = 'Like what you see? Visit the ' +\n",
              "          '<a target=\"_blank\" href=https://colab.research.google.com/notebooks/data_table.ipynb>data table notebook</a>'\n",
              "          + ' to learn more about interactive tables.';\n",
              "        element.innerHTML = '';\n",
              "        dataTable['output_type'] = 'display_data';\n",
              "        await google.colab.output.renderOutput(dataTable, element);\n",
              "        const docLink = document.createElement('div');\n",
              "        docLink.innerHTML = docLinkHtml;\n",
              "        element.appendChild(docLink);\n",
              "      }\n",
              "    </script>\n",
              "  </div>\n",
              "\n",
              "\n",
              "<div id=\"df-ee4119e4-c4c3-4bc8-89f7-abac41f8fb87\">\n",
              "  <button class=\"colab-df-quickchart\" onclick=\"quickchart('df-ee4119e4-c4c3-4bc8-89f7-abac41f8fb87')\"\n",
              "            title=\"Suggest charts\"\n",
              "            style=\"display:none;\">\n",
              "\n",
              "<svg xmlns=\"http://www.w3.org/2000/svg\" height=\"24px\"viewBox=\"0 0 24 24\"\n",
              "     width=\"24px\">\n",
              "    <g>\n",
              "        <path d=\"M19 3H5c-1.1 0-2 .9-2 2v14c0 1.1.9 2 2 2h14c1.1 0 2-.9 2-2V5c0-1.1-.9-2-2-2zM9 17H7v-7h2v7zm4 0h-2V7h2v10zm4 0h-2v-4h2v4z\"/>\n",
              "    </g>\n",
              "</svg>\n",
              "  </button>\n",
              "\n",
              "<style>\n",
              "  .colab-df-quickchart {\n",
              "      --bg-color: #E8F0FE;\n",
              "      --fill-color: #1967D2;\n",
              "      --hover-bg-color: #E2EBFA;\n",
              "      --hover-fill-color: #174EA6;\n",
              "      --disabled-fill-color: #AAA;\n",
              "      --disabled-bg-color: #DDD;\n",
              "  }\n",
              "\n",
              "  [theme=dark] .colab-df-quickchart {\n",
              "      --bg-color: #3B4455;\n",
              "      --fill-color: #D2E3FC;\n",
              "      --hover-bg-color: #434B5C;\n",
              "      --hover-fill-color: #FFFFFF;\n",
              "      --disabled-bg-color: #3B4455;\n",
              "      --disabled-fill-color: #666;\n",
              "  }\n",
              "\n",
              "  .colab-df-quickchart {\n",
              "    background-color: var(--bg-color);\n",
              "    border: none;\n",
              "    border-radius: 50%;\n",
              "    cursor: pointer;\n",
              "    display: none;\n",
              "    fill: var(--fill-color);\n",
              "    height: 32px;\n",
              "    padding: 0;\n",
              "    width: 32px;\n",
              "  }\n",
              "\n",
              "  .colab-df-quickchart:hover {\n",
              "    background-color: var(--hover-bg-color);\n",
              "    box-shadow: 0 1px 2px rgba(60, 64, 67, 0.3), 0 1px 3px 1px rgba(60, 64, 67, 0.15);\n",
              "    fill: var(--button-hover-fill-color);\n",
              "  }\n",
              "\n",
              "  .colab-df-quickchart-complete:disabled,\n",
              "  .colab-df-quickchart-complete:disabled:hover {\n",
              "    background-color: var(--disabled-bg-color);\n",
              "    fill: var(--disabled-fill-color);\n",
              "    box-shadow: none;\n",
              "  }\n",
              "\n",
              "  .colab-df-spinner {\n",
              "    border: 2px solid var(--fill-color);\n",
              "    border-color: transparent;\n",
              "    border-bottom-color: var(--fill-color);\n",
              "    animation:\n",
              "      spin 1s steps(1) infinite;\n",
              "  }\n",
              "\n",
              "  @keyframes spin {\n",
              "    0% {\n",
              "      border-color: transparent;\n",
              "      border-bottom-color: var(--fill-color);\n",
              "      border-left-color: var(--fill-color);\n",
              "    }\n",
              "    20% {\n",
              "      border-color: transparent;\n",
              "      border-left-color: var(--fill-color);\n",
              "      border-top-color: var(--fill-color);\n",
              "    }\n",
              "    30% {\n",
              "      border-color: transparent;\n",
              "      border-left-color: var(--fill-color);\n",
              "      border-top-color: var(--fill-color);\n",
              "      border-right-color: var(--fill-color);\n",
              "    }\n",
              "    40% {\n",
              "      border-color: transparent;\n",
              "      border-right-color: var(--fill-color);\n",
              "      border-top-color: var(--fill-color);\n",
              "    }\n",
              "    60% {\n",
              "      border-color: transparent;\n",
              "      border-right-color: var(--fill-color);\n",
              "    }\n",
              "    80% {\n",
              "      border-color: transparent;\n",
              "      border-right-color: var(--fill-color);\n",
              "      border-bottom-color: var(--fill-color);\n",
              "    }\n",
              "    90% {\n",
              "      border-color: transparent;\n",
              "      border-bottom-color: var(--fill-color);\n",
              "    }\n",
              "  }\n",
              "</style>\n",
              "\n",
              "  <script>\n",
              "    async function quickchart(key) {\n",
              "      const quickchartButtonEl =\n",
              "        document.querySelector('#' + key + ' button');\n",
              "      quickchartButtonEl.disabled = true;  // To prevent multiple clicks.\n",
              "      quickchartButtonEl.classList.add('colab-df-spinner');\n",
              "      try {\n",
              "        const charts = await google.colab.kernel.invokeFunction(\n",
              "            'suggestCharts', [key], {});\n",
              "      } catch (error) {\n",
              "        console.error('Error during call to suggestCharts:', error);\n",
              "      }\n",
              "      quickchartButtonEl.classList.remove('colab-df-spinner');\n",
              "      quickchartButtonEl.classList.add('colab-df-quickchart-complete');\n",
              "    }\n",
              "    (() => {\n",
              "      let quickchartButtonEl =\n",
              "        document.querySelector('#df-ee4119e4-c4c3-4bc8-89f7-abac41f8fb87 button');\n",
              "      quickchartButtonEl.style.display =\n",
              "        google.colab.kernel.accessAllowed ? 'block' : 'none';\n",
              "    })();\n",
              "  </script>\n",
              "</div>\n",
              "\n",
              "    </div>\n",
              "  </div>\n"
            ],
            "application/vnd.google.colaboratory.intrinsic+json": {
              "type": "dataframe",
              "variable_name": "thyroid_df"
            }
          },
          "metadata": {},
          "execution_count": 42
        }
      ]
    },
    {
      "cell_type": "code",
      "source": [
        "thyroid_df.shape"
      ],
      "metadata": {
        "colab": {
          "base_uri": "https://localhost:8080/"
        },
        "id": "Iw0a6JRv_GOv",
        "outputId": "284ecb92-b8a2-4d0a-e696-2e155f7a372f"
      },
      "execution_count": 41,
      "outputs": [
        {
          "output_type": "execute_result",
          "data": {
            "text/plain": [
              "(3772, 30)"
            ]
          },
          "metadata": {},
          "execution_count": 41
        }
      ]
    },
    {
      "cell_type": "markdown",
      "source": [
        "## **Data Cleaning**"
      ],
      "metadata": {
        "id": "u-29JTVYJQmN"
      }
    },
    {
      "cell_type": "code",
      "source": [
        "thyroid_df.rename(columns={'binaryClass':'Label'},inplace=True)"
      ],
      "metadata": {
        "execution": {
          "iopub.status.busy": "2023-05-22T13:27:02.238222Z",
          "iopub.execute_input": "2023-05-22T13:27:02.238782Z",
          "iopub.status.idle": "2023-05-22T13:27:02.245247Z",
          "shell.execute_reply.started": "2023-05-22T13:27:02.23872Z",
          "shell.execute_reply": "2023-05-22T13:27:02.244143Z"
        },
        "trusted": true,
        "id": "-fghgx_LJQmN"
      },
      "execution_count": 4,
      "outputs": []
    },
    {
      "cell_type": "code",
      "source": [
        "thyroid_df.replace('?',np.nan,inplace=True)"
      ],
      "metadata": {
        "execution": {
          "iopub.status.busy": "2023-05-22T13:27:02.246562Z",
          "iopub.execute_input": "2023-05-22T13:27:02.246867Z",
          "iopub.status.idle": "2023-05-22T13:27:02.272366Z",
          "shell.execute_reply.started": "2023-05-22T13:27:02.246832Z",
          "shell.execute_reply": "2023-05-22T13:27:02.270889Z"
        },
        "trusted": true,
        "id": "GUkq8U4oJQmO"
      },
      "execution_count": 5,
      "outputs": []
    },
    {
      "cell_type": "code",
      "source": [
        "thyroid_df.drop(['T3 measured','TSH measured','TT4 measured','T4U measured','FTI measured','TBG measured','TBG','referral source','on thyroxine','query on thyroxine','on antithyroid medication','query hypothyroid', 'query hyperthyroid','hypopituitary', 'psych'],axis=1,inplace=True)"
      ],
      "metadata": {
        "execution": {
          "iopub.status.busy": "2023-05-22T13:27:02.274792Z",
          "iopub.execute_input": "2023-05-22T13:27:02.275349Z",
          "iopub.status.idle": "2023-05-22T13:27:02.284728Z",
          "shell.execute_reply.started": "2023-05-22T13:27:02.275298Z",
          "shell.execute_reply": "2023-05-22T13:27:02.283921Z"
        },
        "trusted": true,
        "id": "tDZKOwlAJQmO"
      },
      "execution_count": 6,
      "outputs": []
    },
    {
      "cell_type": "code",
      "source": [
        "thyroid_df.info()"
      ],
      "metadata": {
        "execution": {
          "iopub.status.busy": "2023-05-22T13:27:02.286233Z",
          "iopub.execute_input": "2023-05-22T13:27:02.287179Z",
          "iopub.status.idle": "2023-05-22T13:27:02.315484Z",
          "shell.execute_reply.started": "2023-05-22T13:27:02.28711Z",
          "shell.execute_reply": "2023-05-22T13:27:02.313946Z"
        },
        "trusted": true,
        "id": "sn9eomO3JQmO",
        "outputId": "52500a07-ec4d-4d6e-8455-337171543290",
        "colab": {
          "base_uri": "https://localhost:8080/"
        }
      },
      "execution_count": 7,
      "outputs": [
        {
          "output_type": "stream",
          "name": "stdout",
          "text": [
            "<class 'pandas.core.frame.DataFrame'>\n",
            "RangeIndex: 3772 entries, 0 to 3771\n",
            "Data columns (total 15 columns):\n",
            " #   Column           Non-Null Count  Dtype \n",
            "---  ------           --------------  ----- \n",
            " 0   age              3771 non-null   object\n",
            " 1   sex              3622 non-null   object\n",
            " 2   sick             3772 non-null   object\n",
            " 3   pregnant         3772 non-null   object\n",
            " 4   thyroid surgery  3772 non-null   object\n",
            " 5   I131 treatment   3772 non-null   object\n",
            " 6   lithium          3772 non-null   object\n",
            " 7   goitre           3772 non-null   object\n",
            " 8   tumor            3772 non-null   object\n",
            " 9   TSH              3403 non-null   object\n",
            " 10  T3               3003 non-null   object\n",
            " 11  TT4              3541 non-null   object\n",
            " 12  T4U              3385 non-null   object\n",
            " 13  FTI              3387 non-null   object\n",
            " 14  Label            3772 non-null   object\n",
            "dtypes: object(15)\n",
            "memory usage: 442.2+ KB\n"
          ]
        }
      ]
    },
    {
      "cell_type": "code",
      "source": [
        "thyroid_df['thyroid surgery'].value_counts()"
      ],
      "metadata": {
        "execution": {
          "iopub.status.busy": "2023-05-22T13:27:02.316739Z",
          "iopub.execute_input": "2023-05-22T13:27:02.317614Z",
          "iopub.status.idle": "2023-05-22T13:27:02.327271Z",
          "shell.execute_reply.started": "2023-05-22T13:27:02.31755Z",
          "shell.execute_reply": "2023-05-22T13:27:02.3264Z"
        },
        "trusted": true,
        "id": "mPGzFd82JQmP",
        "outputId": "021fdda0-a6d4-4570-b731-255b64a7a65d",
        "colab": {
          "base_uri": "https://localhost:8080/"
        }
      },
      "execution_count": 8,
      "outputs": [
        {
          "output_type": "execute_result",
          "data": {
            "text/plain": [
              "thyroid surgery\n",
              "f    3719\n",
              "t      53\n",
              "Name: count, dtype: int64"
            ]
          },
          "metadata": {},
          "execution_count": 8
        }
      ]
    },
    {
      "cell_type": "code",
      "source": [
        "cols = ['age','FTI','TSH','T3','TT4','T4U']\n",
        "for i in cols:\n",
        "    thyroid_df[i] = pd.to_numeric(thyroid_df[i])"
      ],
      "metadata": {
        "execution": {
          "iopub.status.busy": "2023-05-22T13:27:02.328389Z",
          "iopub.execute_input": "2023-05-22T13:27:02.329499Z",
          "iopub.status.idle": "2023-05-22T13:27:02.367776Z",
          "shell.execute_reply.started": "2023-05-22T13:27:02.329444Z",
          "shell.execute_reply": "2023-05-22T13:27:02.366663Z"
        },
        "trusted": true,
        "id": "ZO2_gjvAJQmP"
      },
      "execution_count": 9,
      "outputs": []
    },
    {
      "cell_type": "code",
      "source": [
        "thyroid_df.info()"
      ],
      "metadata": {
        "execution": {
          "iopub.status.busy": "2023-05-22T13:27:02.369778Z",
          "iopub.execute_input": "2023-05-22T13:27:02.370367Z",
          "iopub.status.idle": "2023-05-22T13:27:02.392892Z",
          "shell.execute_reply.started": "2023-05-22T13:27:02.370313Z",
          "shell.execute_reply": "2023-05-22T13:27:02.391669Z"
        },
        "trusted": true,
        "id": "bIsrGzALJQmP",
        "outputId": "98f54a07-cfaf-4348-da77-e71bf445cfa0",
        "colab": {
          "base_uri": "https://localhost:8080/"
        }
      },
      "execution_count": 10,
      "outputs": [
        {
          "output_type": "stream",
          "name": "stdout",
          "text": [
            "<class 'pandas.core.frame.DataFrame'>\n",
            "RangeIndex: 3772 entries, 0 to 3771\n",
            "Data columns (total 15 columns):\n",
            " #   Column           Non-Null Count  Dtype  \n",
            "---  ------           --------------  -----  \n",
            " 0   age              3771 non-null   float64\n",
            " 1   sex              3622 non-null   object \n",
            " 2   sick             3772 non-null   object \n",
            " 3   pregnant         3772 non-null   object \n",
            " 4   thyroid surgery  3772 non-null   object \n",
            " 5   I131 treatment   3772 non-null   object \n",
            " 6   lithium          3772 non-null   object \n",
            " 7   goitre           3772 non-null   object \n",
            " 8   tumor            3772 non-null   object \n",
            " 9   TSH              3403 non-null   float64\n",
            " 10  T3               3003 non-null   float64\n",
            " 11  TT4              3541 non-null   float64\n",
            " 12  T4U              3385 non-null   float64\n",
            " 13  FTI              3387 non-null   float64\n",
            " 14  Label            3772 non-null   object \n",
            "dtypes: float64(6), object(9)\n",
            "memory usage: 442.2+ KB\n"
          ]
        }
      ]
    },
    {
      "cell_type": "markdown",
      "source": [
        "## **Handle Missing Values**"
      ],
      "metadata": {
        "id": "FCs6uiL8JQmQ"
      }
    },
    {
      "cell_type": "code",
      "source": [
        "thyroid_df.isnull().sum()"
      ],
      "metadata": {
        "execution": {
          "iopub.status.busy": "2023-05-22T13:27:02.395566Z",
          "iopub.execute_input": "2023-05-22T13:27:02.395913Z",
          "iopub.status.idle": "2023-05-22T13:27:02.410404Z",
          "shell.execute_reply.started": "2023-05-22T13:27:02.39588Z",
          "shell.execute_reply": "2023-05-22T13:27:02.409574Z"
        },
        "trusted": true,
        "id": "ywi8Uu_GJQmQ",
        "outputId": "f3736770-2b6d-4803-d2dd-2aca112578e3",
        "colab": {
          "base_uri": "https://localhost:8080/"
        }
      },
      "execution_count": 11,
      "outputs": [
        {
          "output_type": "execute_result",
          "data": {
            "text/plain": [
              "age                  1\n",
              "sex                150\n",
              "sick                 0\n",
              "pregnant             0\n",
              "thyroid surgery      0\n",
              "I131 treatment       0\n",
              "lithium              0\n",
              "goitre               0\n",
              "tumor                0\n",
              "TSH                369\n",
              "T3                 769\n",
              "TT4                231\n",
              "T4U                387\n",
              "FTI                385\n",
              "Label                0\n",
              "dtype: int64"
            ]
          },
          "metadata": {},
          "execution_count": 11
        }
      ]
    },
    {
      "cell_type": "code",
      "source": [
        "miss_cols = ['FTI','TSH','T3','TT4','T4U']\n",
        "for i in miss_cols:\n",
        "    thyroid_df[i] = thyroid_df[i].fillna(thyroid_df[i].mean())"
      ],
      "metadata": {
        "execution": {
          "iopub.status.busy": "2023-05-22T13:27:02.411893Z",
          "iopub.execute_input": "2023-05-22T13:27:02.412195Z",
          "iopub.status.idle": "2023-05-22T13:27:02.420923Z",
          "shell.execute_reply.started": "2023-05-22T13:27:02.412163Z",
          "shell.execute_reply": "2023-05-22T13:27:02.419877Z"
        },
        "trusted": true,
        "id": "gDJT15M5JQmQ"
      },
      "execution_count": 12,
      "outputs": []
    },
    {
      "cell_type": "code",
      "source": [
        "thyroid_df.dropna(inplace=True)"
      ],
      "metadata": {
        "execution": {
          "iopub.status.busy": "2023-05-22T13:27:02.422506Z",
          "iopub.execute_input": "2023-05-22T13:27:02.42306Z",
          "iopub.status.idle": "2023-05-22T13:27:02.43891Z",
          "shell.execute_reply.started": "2023-05-22T13:27:02.422986Z",
          "shell.execute_reply": "2023-05-22T13:27:02.437767Z"
        },
        "trusted": true,
        "id": "UzTcZXu0JQmQ"
      },
      "execution_count": 13,
      "outputs": []
    },
    {
      "cell_type": "code",
      "source": [
        "thyroid_df.isnull().sum()"
      ],
      "metadata": {
        "execution": {
          "iopub.status.busy": "2023-05-22T13:27:02.440359Z",
          "iopub.execute_input": "2023-05-22T13:27:02.44068Z",
          "iopub.status.idle": "2023-05-22T13:27:02.45796Z",
          "shell.execute_reply.started": "2023-05-22T13:27:02.440648Z",
          "shell.execute_reply": "2023-05-22T13:27:02.456906Z"
        },
        "trusted": true,
        "id": "sriF_VlSJQmQ",
        "outputId": "d045e4db-7c44-47f1-c5ba-7950263d939e",
        "colab": {
          "base_uri": "https://localhost:8080/"
        }
      },
      "execution_count": 14,
      "outputs": [
        {
          "output_type": "execute_result",
          "data": {
            "text/plain": [
              "age                0\n",
              "sex                0\n",
              "sick               0\n",
              "pregnant           0\n",
              "thyroid surgery    0\n",
              "I131 treatment     0\n",
              "lithium            0\n",
              "goitre             0\n",
              "tumor              0\n",
              "TSH                0\n",
              "T3                 0\n",
              "TT4                0\n",
              "T4U                0\n",
              "FTI                0\n",
              "Label              0\n",
              "dtype: int64"
            ]
          },
          "metadata": {},
          "execution_count": 14
        }
      ]
    },
    {
      "cell_type": "code",
      "source": [
        "thyroid_df = thyroid_df.drop(1364)"
      ],
      "metadata": {
        "execution": {
          "iopub.status.busy": "2023-05-22T13:27:02.459665Z",
          "iopub.execute_input": "2023-05-22T13:27:02.45994Z",
          "iopub.status.idle": "2023-05-22T13:27:02.467945Z",
          "shell.execute_reply.started": "2023-05-22T13:27:02.459906Z",
          "shell.execute_reply": "2023-05-22T13:27:02.467207Z"
        },
        "trusted": true,
        "id": "TiiyWnMUJQmR"
      },
      "execution_count": 15,
      "outputs": []
    },
    {
      "cell_type": "code",
      "source": [
        "thyroid_df.TT4 = thyroid_df.TT4.astype(int)\n",
        "thyroid_df.FTI = thyroid_df.FTI.astype(int)\n",
        "thyroid_df.age = thyroid_df.age.astype(int)"
      ],
      "metadata": {
        "execution": {
          "iopub.status.busy": "2023-05-22T13:27:02.469322Z",
          "iopub.execute_input": "2023-05-22T13:27:02.46969Z",
          "iopub.status.idle": "2023-05-22T13:27:02.483032Z",
          "shell.execute_reply.started": "2023-05-22T13:27:02.469659Z",
          "shell.execute_reply": "2023-05-22T13:27:02.481996Z"
        },
        "trusted": true,
        "id": "q83PqBTmJQmR"
      },
      "execution_count": 16,
      "outputs": []
    },
    {
      "cell_type": "markdown",
      "source": [
        "## **EDA**"
      ],
      "metadata": {
        "id": "xHTB9VoFJQmR"
      }
    },
    {
      "cell_type": "code",
      "source": [
        "sns.countplot(x='Label',data=thyroid_df)\n",
        "plt.title(\"Countplot for Target variable\");"
      ],
      "metadata": {
        "execution": {
          "iopub.status.busy": "2023-05-22T13:27:02.484287Z",
          "iopub.execute_input": "2023-05-22T13:27:02.485015Z",
          "iopub.status.idle": "2023-05-22T13:27:02.726552Z",
          "shell.execute_reply.started": "2023-05-22T13:27:02.484977Z",
          "shell.execute_reply": "2023-05-22T13:27:02.725378Z"
        },
        "trusted": true,
        "id": "mRuw5gJXJQmR",
        "outputId": "dcfe6d8f-7069-46fc-bde0-5f1afc0ba92e",
        "colab": {
          "base_uri": "https://localhost:8080/",
          "height": 472
        }
      },
      "execution_count": 17,
      "outputs": [
        {
          "output_type": "display_data",
          "data": {
            "text/plain": [
              "<Figure size 640x480 with 1 Axes>"
            ],
            "image/png": "[encoded data removed]"
          },
          "metadata": {}
        }
      ]
    },
    {
      "cell_type": "code",
      "source": [
        "positive_df = thyroid_df[thyroid_df.Label=='P']"
      ],
      "metadata": {
        "execution": {
          "iopub.status.busy": "2023-05-22T13:27:02.728078Z",
          "iopub.execute_input": "2023-05-22T13:27:02.72845Z",
          "iopub.status.idle": "2023-05-22T13:27:02.736713Z",
          "shell.execute_reply.started": "2023-05-22T13:27:02.7284Z",
          "shell.execute_reply": "2023-05-22T13:27:02.735722Z"
        },
        "trusted": true,
        "id": "r5rfVUPuJQmR"
      },
      "execution_count": 18,
      "outputs": []
    },
    {
      "cell_type": "code",
      "source": [
        "plt.figure(figsize=(9,6))\n",
        "sns.histplot(x='age',data=positive_df,color='green')\n",
        "plt.title(\"Distribution of Positive Class Based on Age\",{'fontsize':10});"
      ],
      "metadata": {
        "execution": {
          "iopub.status.busy": "2023-05-22T13:27:33.093831Z",
          "iopub.execute_input": "2023-05-22T13:27:33.094214Z",
          "iopub.status.idle": "2023-05-22T13:27:33.430224Z",
          "shell.execute_reply.started": "2023-05-22T13:27:33.094165Z",
          "shell.execute_reply": "2023-05-22T13:27:33.429301Z"
        },
        "trusted": true,
        "id": "t88-WYqCJQmS",
        "outputId": "03c40bbc-e140-4a23-d8f8-e306de4255ff",
        "colab": {
          "base_uri": "https://localhost:8080/",
          "height": 561
        }
      },
      "execution_count": 19,
      "outputs": [
        {
          "output_type": "display_data",
          "data": {
            "text/plain": [
              "<Figure size 900x600 with 1 Axes>"
            ],
            "image/png": "[encoded data removed]"
          },
          "metadata": {}
        }
      ]
    },
    {
      "cell_type": "code",
      "source": [
        "plt.figure(figsize=(10,8))\n",
        "plt.pie(x=positive_df.sex.value_counts(),\n",
        "        labels=['Female','Male'],\n",
        "        startangle = 90,\n",
        "        colors=['springgreen','orange'],\n",
        "        autopct='%.2f'\n",
        "       );\n",
        "plt.legend();"
      ],
      "metadata": {
        "execution": {
          "iopub.status.busy": "2023-05-22T13:27:03.079105Z",
          "iopub.execute_input": "2023-05-22T13:27:03.079503Z",
          "iopub.status.idle": "2023-05-22T13:27:03.28764Z",
          "shell.execute_reply.started": "2023-05-22T13:27:03.079466Z",
          "shell.execute_reply": "2023-05-22T13:27:03.286578Z"
        },
        "trusted": true,
        "id": "fOXb3cR1JQmS",
        "outputId": "4b038960-bfed-498c-c562-ee9531784945",
        "colab": {
          "base_uri": "https://localhost:8080/",
          "height": 653
        }
      },
      "execution_count": 20,
      "outputs": [
        {
          "output_type": "display_data",
          "data": {
            "text/plain": [
              "<Figure size 1000x800 with 1 Axes>"
            ],
            "image/png": "[encoded data removed]"
          },
          "metadata": {}
        }
      ]
    },
    {
      "cell_type": "markdown",
      "source": [
        "## **Inference :**\n",
        "### Female patients who has disease is greater than male patients."
      ],
      "metadata": {
        "id": "UqUHaHKzJQmS"
      }
    },
    {
      "cell_type": "code",
      "source": [
        "plt.figure(figsize=(8,8))\n",
        "plt.pie(x=positive_df.sick.value_counts(),\n",
        "        labels=['Sick','Well'],\n",
        "        startangle = 20,\n",
        "        colors=['deepskyblue','red'],\n",
        "        autopct='%.2f',\n",
        "        explode=[0,0.2]\n",
        "       );\n",
        "plt.legend();"
      ],
      "metadata": {
        "execution": {
          "iopub.status.busy": "2023-05-22T13:27:03.288919Z",
          "iopub.execute_input": "2023-05-22T13:27:03.289181Z",
          "iopub.status.idle": "2023-05-22T13:27:03.531559Z",
          "shell.execute_reply.started": "2023-05-22T13:27:03.289149Z",
          "shell.execute_reply": "2023-05-22T13:27:03.530599Z"
        },
        "trusted": true,
        "id": "o_x9Va7uJQmS",
        "outputId": "e1a66ccd-4202-46e5-c287-3fe7d0bddf48",
        "colab": {
          "base_uri": "https://localhost:8080/",
          "height": 653
        }
      },
      "execution_count": 21,
      "outputs": [
        {
          "output_type": "display_data",
          "data": {
            "text/plain": [
              "<Figure size 800x800 with 1 Axes>"
            ],
            "image/png": "[encoded data removed]"
          },
          "metadata": {}
        }
      ]
    },
    {
      "cell_type": "code",
      "source": [
        "X = thyroid_df.drop('Label',axis=1)\n",
        "y = thyroid_df.Label"
      ],
      "metadata": {
        "execution": {
          "iopub.status.busy": "2023-05-22T13:27:03.536276Z",
          "iopub.execute_input": "2023-05-22T13:27:03.537201Z",
          "iopub.status.idle": "2023-05-22T13:27:03.543039Z",
          "shell.execute_reply.started": "2023-05-22T13:27:03.537151Z",
          "shell.execute_reply": "2023-05-22T13:27:03.542025Z"
        },
        "trusted": true,
        "id": "QjxR0XxYJQmS"
      },
      "execution_count": 22,
      "outputs": []
    },
    {
      "cell_type": "markdown",
      "source": [
        "## **Transform non-numerical labels to numerical labels.**"
      ],
      "metadata": {
        "id": "UsAevasTJQmT"
      }
    },
    {
      "cell_type": "code",
      "source": [
        "s_encoder = LabelEncoder()\n",
        "si_encoder = LabelEncoder()\n",
        "preg_encoder = LabelEncoder()\n",
        "th_encoder = LabelEncoder()\n",
        "treat_encoder = LabelEncoder()\n",
        "lith_encoder = LabelEncoder()\n",
        "g_encoder= LabelEncoder()\n",
        "tu_encoder = LabelEncoder()"
      ],
      "metadata": {
        "execution": {
          "iopub.status.busy": "2023-05-22T13:27:03.544464Z",
          "iopub.execute_input": "2023-05-22T13:27:03.545217Z",
          "iopub.status.idle": "2023-05-22T13:27:03.55727Z",
          "shell.execute_reply.started": "2023-05-22T13:27:03.545172Z",
          "shell.execute_reply": "2023-05-22T13:27:03.556414Z"
        },
        "trusted": true,
        "id": "ygt01bckJQmT"
      },
      "execution_count": 23,
      "outputs": []
    },
    {
      "cell_type": "code",
      "source": [
        "X['sex'] = s_encoder.fit_transform(X.sex)\n",
        "X['I131 treatment'] = treat_encoder.fit_transform(X['I131 treatment'])\n",
        "X['sick'] = si_encoder.fit_transform(X.sick)\n",
        "X['pregnant'] = preg_encoder.fit_transform(X.pregnant)\n",
        "X['thyroid surgery'] = th_encoder.fit_transform(X['thyroid surgery'])\n",
        "X['lithium'] = lith_encoder.fit_transform(X['lithium'])\n",
        "X['goitre'] = g_encoder.fit_transform(X['goitre'])\n",
        "X['tumor'] = tu_encoder.fit_transform(X['tumor'])"
      ],
      "metadata": {
        "execution": {
          "iopub.status.busy": "2023-05-22T13:27:03.558492Z",
          "iopub.execute_input": "2023-05-22T13:27:03.5595Z",
          "iopub.status.idle": "2023-05-22T13:27:03.588969Z",
          "shell.execute_reply.started": "2023-05-22T13:27:03.559445Z",
          "shell.execute_reply": "2023-05-22T13:27:03.588027Z"
        },
        "trusted": true,
        "id": "Gj35heJbJQmT"
      },
      "execution_count": 24,
      "outputs": []
    },
    {
      "cell_type": "code",
      "source": [
        "def func(df):\n",
        "    if df == 'P':\n",
        "        return 1\n",
        "    else:\n",
        "        return 0"
      ],
      "metadata": {
        "execution": {
          "iopub.status.busy": "2023-05-22T13:27:03.590754Z",
          "iopub.execute_input": "2023-05-22T13:27:03.591148Z",
          "iopub.status.idle": "2023-05-22T13:27:03.596369Z",
          "shell.execute_reply.started": "2023-05-22T13:27:03.591082Z",
          "shell.execute_reply": "2023-05-22T13:27:03.595434Z"
        },
        "trusted": true,
        "id": "jeST9OiHJQmT"
      },
      "execution_count": 25,
      "outputs": []
    },
    {
      "cell_type": "code",
      "source": [
        "y = y.apply(func)"
      ],
      "metadata": {
        "execution": {
          "iopub.status.busy": "2023-05-22T13:27:03.597755Z",
          "iopub.execute_input": "2023-05-22T13:27:03.598009Z",
          "iopub.status.idle": "2023-05-22T13:27:03.613646Z",
          "shell.execute_reply.started": "2023-05-22T13:27:03.597977Z",
          "shell.execute_reply": "2023-05-22T13:27:03.6126Z"
        },
        "trusted": true,
        "id": "6v__Mj2-JQmT"
      },
      "execution_count": 26,
      "outputs": []
    },
    {
      "cell_type": "markdown",
      "source": [
        "## **Split original data into training data and testing data.**"
      ],
      "metadata": {
        "id": "pZ0G0Ja3JQmU"
      }
    },
    {
      "cell_type": "code",
      "source": [
        "X_train,X_test,y_train,y_test = train_test_split(X,y,test_size=0.2,random_state=11)"
      ],
      "metadata": {
        "execution": {
          "iopub.status.busy": "2023-05-22T13:27:03.615291Z",
          "iopub.execute_input": "2023-05-22T13:27:03.615553Z",
          "iopub.status.idle": "2023-05-22T13:27:03.63209Z",
          "shell.execute_reply.started": "2023-05-22T13:27:03.615521Z",
          "shell.execute_reply": "2023-05-22T13:27:03.631152Z"
        },
        "trusted": true,
        "id": "AeFT8gseJQmU"
      },
      "execution_count": 27,
      "outputs": []
    },
    {
      "cell_type": "markdown",
      "source": [
        "## **Handle Imbalance Data**"
      ],
      "metadata": {
        "id": "dcNR1w04JQmU"
      }
    },
    {
      "cell_type": "code",
      "source": [
        "smote = SMOTE(random_state=11)\n",
        "\n",
        "x_smote, y_smote = smote.fit_resample(X_train, y_train)"
      ],
      "metadata": {
        "execution": {
          "iopub.status.busy": "2023-05-22T13:27:03.633601Z",
          "iopub.execute_input": "2023-05-22T13:27:03.633895Z",
          "iopub.status.idle": "2023-05-22T13:27:03.657292Z",
          "shell.execute_reply.started": "2023-05-22T13:27:03.633859Z",
          "shell.execute_reply": "2023-05-22T13:27:03.656018Z"
        },
        "trusted": true,
        "id": "bUiAUZbMJQmU"
      },
      "execution_count": 28,
      "outputs": []
    },
    {
      "cell_type": "code",
      "source": [
        "print(\"Shape before the Oversampling : \",X_train.shape)\n",
        "print(\"Shape after the Oversampling : \",x_smote.shape)\n"
      ],
      "metadata": {
        "execution": {
          "iopub.status.busy": "2023-05-22T13:27:03.658654Z",
          "iopub.execute_input": "2023-05-22T13:27:03.65893Z",
          "iopub.status.idle": "2023-05-22T13:27:03.664865Z",
          "shell.execute_reply.started": "2023-05-22T13:27:03.658896Z",
          "shell.execute_reply": "2023-05-22T13:27:03.664024Z"
        },
        "trusted": true,
        "id": "fRGrS8_dJQmU",
        "outputId": "fa0d85a6-72f0-4245-8372-76bdc10e0c53",
        "colab": {
          "base_uri": "https://localhost:8080/"
        }
      },
      "execution_count": 29,
      "outputs": [
        {
          "output_type": "stream",
          "name": "stdout",
          "text": [
            "Shape before the Oversampling :  (2896, 14)\n",
            "Shape after the Oversampling :  (5340, 14)\n"
          ]
        }
      ]
    },
    {
      "cell_type": "markdown",
      "source": [
        "## **Scaling (Normalization)**"
      ],
      "metadata": {
        "id": "0OnvdnUgJQmb"
      }
    },
    {
      "cell_type": "code",
      "source": [
        "scalr = MinMaxScaler()\n",
        "x_smote.TT4 = scalr.fit_transform(x_smote[['TT4']])\n",
        "x_smote.age = scalr.fit_transform(x_smote[['age']])\n",
        "x_smote.FTI = scalr.fit_transform(x_smote[['FTI']])"
      ],
      "metadata": {
        "execution": {
          "iopub.status.busy": "2023-05-22T13:27:03.666356Z",
          "iopub.execute_input": "2023-05-22T13:27:03.666679Z",
          "iopub.status.idle": "2023-05-22T13:27:03.691261Z",
          "shell.execute_reply.started": "2023-05-22T13:27:03.666642Z",
          "shell.execute_reply": "2023-05-22T13:27:03.690168Z"
        },
        "trusted": true,
        "id": "qmaFsPOyJQmb"
      },
      "execution_count": 30,
      "outputs": []
    },
    {
      "cell_type": "code",
      "source": [
        "# X_test.TT4 = scalr.transform(X_test[['TT4']])\n",
        "# X_test.age = scalr.transform(X_test[['age']])\n",
        "# X_test.FTI = scalr.transform(X_test[['FTI']])"
      ],
      "metadata": {
        "execution": {
          "iopub.status.busy": "2023-05-22T13:27:03.692979Z",
          "iopub.execute_input": "2023-05-22T13:27:03.693477Z",
          "iopub.status.idle": "2023-05-22T13:27:03.708964Z",
          "shell.execute_reply.started": "2023-05-22T13:27:03.693433Z",
          "shell.execute_reply": "2023-05-22T13:27:03.708003Z"
        },
        "trusted": true,
        "id": "4oZGIV9iJQmb"
      },
      "execution_count": 31,
      "outputs": []
    },
    {
      "cell_type": "markdown",
      "source": [
        "## **Build Models.**"
      ],
      "metadata": {
        "id": "DELG5T7oJQmb"
      }
    },
    {
      "cell_type": "code",
      "source": [
        "models = {\n",
        "    LogisticRegression(max_iter=500):'Logistic Regression',\n",
        "    SVC():\"Support Vector Machine\",\n",
        "    RandomForestClassifier():'Random Forest',\n",
        "    KNeighborsClassifier(n_neighbors=5):'KNN',\n",
        "    DecisionTreeClassifier():'Decision Tree'\n",
        "}\n",
        "for m in models.keys():\n",
        "    m.fit(x_smote,y_smote)\n",
        "for model,name in models.items():\n",
        "     print(f\"Accuracy Score for {name} is : \",model.score(X_test,y_test)*100,\"%\")"
      ],
      "metadata": {
        "execution": {
          "iopub.status.busy": "2023-05-22T13:27:03.710494Z",
          "iopub.execute_input": "2023-05-22T13:27:03.711104Z",
          "iopub.status.idle": "2023-05-22T13:27:05.184947Z",
          "shell.execute_reply.started": "2023-05-22T13:27:03.711065Z",
          "shell.execute_reply": "2023-05-22T13:27:05.182657Z"
        },
        "trusted": true,
        "id": "1ijFyExQJQmb",
        "colab": {
          "base_uri": "https://localhost:8080/"
        },
        "outputId": "3439b25b-c7ae-4532-99db-3175a1ffdc38"
      },
      "execution_count": 32,
      "outputs": [
        {
          "output_type": "stream",
          "name": "stdout",
          "text": [
            "Accuracy Score for Logistic Regression is :  92.95580110497238 %\n",
            "Accuracy Score for Support Vector Machine is :  7.458563535911603 %\n",
            "Accuracy Score for Random Forest is :  93.37016574585635 %\n",
            "Accuracy Score for KNN is :  95.30386740331491 %\n",
            "Accuracy Score for Decision Tree is :  98.61878453038673 %\n"
          ]
        }
      ]
    },
    {
      "cell_type": "markdown",
      "source": [
        "## **Inference :**\n",
        "### The most of patients who suffer from thyroid belonging to age group between 50-70"
      ],
      "metadata": {
        "id": "xPrUIivTJQmb"
      }
    },
    {
      "cell_type": "markdown",
      "source": [
        "## **Classification Report for each model.**"
      ],
      "metadata": {
        "id": "s3WPK3JhJQmc"
      }
    },
    {
      "cell_type": "code",
      "source": [
        "for model,name in models.items():\n",
        "    y_pred = model.predict(X_test)\n",
        "    print(f\"Classification Report for {name}\")\n",
        "    print(\"----------------------------------------------------------\")\n",
        "    print(classification_report(y_test,y_pred))\n",
        "    print(\"----------------------------------------------------------\")"
      ],
      "metadata": {
        "execution": {
          "iopub.status.busy": "2023-05-22T13:27:05.186233Z",
          "iopub.execute_input": "2023-05-22T13:27:05.186487Z",
          "iopub.status.idle": "2023-05-22T13:27:05.38495Z",
          "shell.execute_reply.started": "2023-05-22T13:27:05.186455Z",
          "shell.execute_reply": "2023-05-22T13:27:05.383932Z"
        },
        "trusted": true,
        "id": "HoXvCne9JQmc",
        "colab": {
          "base_uri": "https://localhost:8080/"
        },
        "outputId": "ae5bd088-d484-4473-973b-f62734770394"
      },
      "execution_count": 33,
      "outputs": [
        {
          "output_type": "stream",
          "name": "stdout",
          "text": [
            "Classification Report for Logistic Regression\n",
            "----------------------------------------------------------\n",
            "              precision    recall  f1-score   support\n",
            "\n",
            "           0       1.00      0.06      0.11        54\n",
            "           1       0.93      1.00      0.96       670\n",
            "\n",
            "    accuracy                           0.93       724\n",
            "   macro avg       0.96      0.53      0.53       724\n",
            "weighted avg       0.93      0.93      0.90       724\n",
            "\n",
            "----------------------------------------------------------\n",
            "Classification Report for Support Vector Machine\n",
            "----------------------------------------------------------\n",
            "              precision    recall  f1-score   support\n",
            "\n",
            "           0       0.07      1.00      0.14        54\n",
            "           1       0.00      0.00      0.00       670\n",
            "\n",
            "    accuracy                           0.07       724\n",
            "   macro avg       0.04      0.50      0.07       724\n",
            "weighted avg       0.01      0.07      0.01       724\n",
            "\n",
            "----------------------------------------------------------\n",
            "Classification Report for Random Forest\n",
            "----------------------------------------------------------\n",
            "              precision    recall  f1-score   support\n",
            "\n",
            "           0       1.00      0.11      0.20        54\n",
            "           1       0.93      1.00      0.97       670\n",
            "\n",
            "    accuracy                           0.93       724\n",
            "   macro avg       0.97      0.56      0.58       724\n",
            "weighted avg       0.94      0.93      0.91       724\n",
            "\n",
            "----------------------------------------------------------\n",
            "Classification Report for KNN\n",
            "----------------------------------------------------------\n",
            "              precision    recall  f1-score   support\n",
            "\n",
            "           0       0.92      0.41      0.56        54\n",
            "           1       0.95      1.00      0.98       670\n",
            "\n",
            "    accuracy                           0.95       724\n",
            "   macro avg       0.94      0.70      0.77       724\n",
            "weighted avg       0.95      0.95      0.94       724\n",
            "\n",
            "----------------------------------------------------------\n",
            "Classification Report for Decision Tree\n",
            "----------------------------------------------------------\n",
            "              precision    recall  f1-score   support\n",
            "\n",
            "           0       0.87      0.96      0.91        54\n",
            "           1       1.00      0.99      0.99       670\n",
            "\n",
            "    accuracy                           0.99       724\n",
            "   macro avg       0.93      0.98      0.95       724\n",
            "weighted avg       0.99      0.99      0.99       724\n",
            "\n",
            "----------------------------------------------------------\n"
          ]
        },
        {
          "output_type": "stream",
          "name": "stderr",
          "text": [
            "/usr/local/lib/python3.10/dist-packages/sklearn/metrics/_classification.py:1344: UndefinedMetricWarning: Precision and F-score are ill-defined and being set to 0.0 in labels with no predicted samples. Use `zero_division` parameter to control this behavior.\n",
            "  _warn_prf(average, modifier, msg_start, len(result))\n",
            "/usr/local/lib/python3.10/dist-packages/sklearn/metrics/_classification.py:1344: UndefinedMetricWarning: Precision and F-score are ill-defined and being set to 0.0 in labels with no predicted samples. Use `zero_division` parameter to control this behavior.\n",
            "  _warn_prf(average, modifier, msg_start, len(result))\n",
            "/usr/local/lib/python3.10/dist-packages/sklearn/metrics/_classification.py:1344: UndefinedMetricWarning: Precision and F-score are ill-defined and being set to 0.0 in labels with no predicted samples. Use `zero_division` parameter to control this behavior.\n",
            "  _warn_prf(average, modifier, msg_start, len(result))\n"
          ]
        }
      ]
    },
    {
      "cell_type": "code",
      "source": [
        "rf = RandomForestClassifier()\n",
        "rf.fit(x_smote,y_smote)\n",
        "rf.score(X_test,y_test)"
      ],
      "metadata": {
        "execution": {
          "iopub.status.busy": "2023-05-22T13:27:05.386365Z",
          "iopub.execute_input": "2023-05-22T13:27:05.386631Z",
          "iopub.status.idle": "2023-05-22T13:27:06.055189Z",
          "shell.execute_reply.started": "2023-05-22T13:27:05.3866Z",
          "shell.execute_reply": "2023-05-22T13:27:06.054182Z"
        },
        "trusted": true,
        "id": "ICyk_y0hJQmc",
        "colab": {
          "base_uri": "https://localhost:8080/"
        },
        "outputId": "8665bba6-e9b3-4fb3-9e4c-70ed5eaea76a"
      },
      "execution_count": 34,
      "outputs": [
        {
          "output_type": "execute_result",
          "data": {
            "text/plain": [
              "0.925414364640884"
            ]
          },
          "metadata": {},
          "execution_count": 34
        }
      ]
    },
    {
      "cell_type": "code",
      "source": [
        "plt.figure(figsize=(9,7))\n",
        "feature_imp1 = rf.feature_importances_\n",
        "sns.barplot(x=feature_imp1, y=X.columns)\n",
        "# Add labels to your graph\n",
        "plt.xlabel('Feature Importance Score')\n",
        "plt.ylabel('Features')\n",
        "plt.title(\"Visualizing Important Features For Random Forest \",{'fontsize':25})\n",
        "plt.show();"
      ],
      "metadata": {
        "execution": {
          "iopub.status.busy": "2023-05-22T13:27:06.056705Z",
          "iopub.execute_input": "2023-05-22T13:27:06.057763Z",
          "iopub.status.idle": "2023-05-22T13:27:06.44974Z",
          "shell.execute_reply.started": "2023-05-22T13:27:06.057717Z",
          "shell.execute_reply": "2023-05-22T13:27:06.449044Z"
        },
        "trusted": true,
        "id": "QJZUzYcAJQmc",
        "colab": {
          "base_uri": "https://localhost:8080/",
          "height": 654
        },
        "outputId": "8886486d-9361-4f4f-f759-3f8a44c80f75"
      },
      "execution_count": 35,
      "outputs": [
        {
          "output_type": "display_data",
          "data": {
            "text/plain": [
              "<Figure size 900x700 with 1 Axes>"
            ],
            "image/png": "[encoded data removed]"
          },
          "metadata": {}
        }
      ]
    },
    {
      "cell_type": "code",
      "source": [
        "x_smote.drop(['sick', 'pregnant', 'I131 treatment',\n",
        "              'lithium', 'goitre', 'tumor'], axis=1, inplace=True)\n",
        "X_test.drop(['sick', 'pregnant', 'I131 treatment',\n",
        "              'lithium', 'goitre', 'tumor'], axis=1, inplace=True)\n"
      ],
      "metadata": {
        "execution": {
          "iopub.status.busy": "2023-05-22T13:27:06.451181Z",
          "iopub.execute_input": "2023-05-22T13:27:06.451441Z",
          "iopub.status.idle": "2023-05-22T13:27:06.460016Z",
          "shell.execute_reply.started": "2023-05-22T13:27:06.451408Z",
          "shell.execute_reply": "2023-05-22T13:27:06.458871Z"
        },
        "trusted": true,
        "id": "NnxBO3FZJQmc"
      },
      "execution_count": 36,
      "outputs": []
    },
    {
      "cell_type": "code",
      "source": [
        "new_rf = RandomForestClassifier()\n",
        "new_rf.fit(x_smote,y_smote)\n",
        "new_rf.score(X_test,y_test)"
      ],
      "metadata": {
        "execution": {
          "iopub.status.busy": "2023-05-22T13:27:06.461874Z",
          "iopub.execute_input": "2023-05-22T13:27:06.462248Z",
          "iopub.status.idle": "2023-05-22T13:27:07.150356Z",
          "shell.execute_reply.started": "2023-05-22T13:27:06.462197Z",
          "shell.execute_reply": "2023-05-22T13:27:07.149425Z"
        },
        "trusted": true,
        "id": "TlNTZpTNJQmc",
        "colab": {
          "base_uri": "https://localhost:8080/"
        },
        "outputId": "511ef67a-7dbb-4f9a-f8cc-be0208c5d4ca"
      },
      "execution_count": 37,
      "outputs": [
        {
          "output_type": "execute_result",
          "data": {
            "text/plain": [
              "0.9350828729281768"
            ]
          },
          "metadata": {},
          "execution_count": 37
        }
      ]
    },
    {
      "cell_type": "code",
      "source": [
        "# with open('thyroid.pkl','wb') as f:\n",
        "#     pickle.dump(new_rf,f)"
      ],
      "metadata": {
        "execution": {
          "iopub.status.busy": "2023-05-22T13:27:07.152236Z",
          "iopub.execute_input": "2023-05-22T13:27:07.152857Z",
          "iopub.status.idle": "2023-05-22T13:27:07.157751Z",
          "shell.execute_reply.started": "2023-05-22T13:27:07.1528Z",
          "shell.execute_reply": "2023-05-22T13:27:07.156314Z"
        },
        "trusted": true,
        "id": "bZfv5UhVJQmd"
      },
      "execution_count": 38,
      "outputs": []
    },
    {
      "cell_type": "code",
      "source": [
        "thyroid_df.head()"
      ],
      "metadata": {
        "execution": {
          "iopub.status.busy": "2023-05-22T13:27:07.159317Z",
          "iopub.execute_input": "2023-05-22T13:27:07.159648Z",
          "iopub.status.idle": "2023-05-22T13:27:07.196057Z",
          "shell.execute_reply.started": "2023-05-22T13:27:07.159606Z",
          "shell.execute_reply": "2023-05-22T13:27:07.194719Z"
        },
        "trusted": true,
        "id": "OeVrm97AJQmd",
        "colab": {
          "base_uri": "https://localhost:8080/",
          "height": 206
        },
        "outputId": "1f8bf9a7-0719-470f-cd1a-ac1e10afc639"
      },
      "execution_count": 39,
      "outputs": [
        {
          "output_type": "execute_result",
          "data": {
            "text/plain": [
              "   age sex sick pregnant thyroid surgery I131 treatment lithium goitre tumor  \\\n",
              "0   41   F    f        f               f              f       f      f     f   \n",
              "1   23   F    f        f               f              f       f      f     f   \n",
              "2   46   M    f        f               f              f       f      f     f   \n",
              "3   70   F    f        f               f              f       f      f     f   \n",
              "4   70   F    f        f               f              f       f      f     f   \n",
              "\n",
              "    TSH      T3  TT4    T4U  FTI Label  \n",
              "0  1.30  2.5000  125  1.140  109     P  \n",
              "1  4.10  2.0000  102  0.995  110     P  \n",
              "2  0.98  2.0135  109  0.910  120     P  \n",
              "3  0.16  1.9000  175  0.995  110     P  \n",
              "4  0.72  1.2000   61  0.870   70     P  "
            ],
            "text/html": [
              "\n",
              "  <div id=\"df-f52f11fc-4e3c-4d65-933d-7eb911c47bf1\" class=\"colab-df-container\">\n",
              "    <div>\n",
              "<style scoped>\n",
              "    .dataframe tbody tr th:only-of-type {\n",
              "        vertical-align: middle;\n",
              "    }\n",
              "\n",
              "    .dataframe tbody tr th {\n",
              "        vertical-align: top;\n",
              "    }\n",
              "\n",
              "    .dataframe thead th {\n",
              "        text-align: right;\n",
              "    }\n",
              "</style>\n",
              "<table border=\"1\" class=\"dataframe\">\n",
              "  <thead>\n",
              "    <tr style=\"text-align: right;\">\n",
              "      <th></th>\n",
              "      <th>age</th>\n",
              "      <th>sex</th>\n",
              "      <th>sick</th>\n",
              "      <th>pregnant</th>\n",
              "      <th>thyroid surgery</th>\n",
              "      <th>I131 treatment</th>\n",
              "      <th>lithium</th>\n",
              "      <th>goitre</th>\n",
              "      <th>tumor</th>\n",
              "      <th>TSH</th>\n",
              "      <th>T3</th>\n",
              "      <th>TT4</th>\n",
              "      <th>T4U</th>\n",
              "      <th>FTI</th>\n",
              "      <th>Label</th>\n",
              "    </tr>\n",
              "  </thead>\n",
              "  <tbody>\n",
              "    <tr>\n",
              "      <th>0</th>\n",
              "      <td>41</td>\n",
              "      <td>F</td>\n",
              "      <td>f</td>\n",
              "      <td>f</td>\n",
              "      <td>f</td>\n",
              "      <td>f</td>\n",
              "      <td>f</td>\n",
              "      <td>f</td>\n",
              "      <td>f</td>\n",
              "      <td>1.30</td>\n",
              "      <td>2.5000</td>\n",
              "      <td>125</td>\n",
              "      <td>1.140</td>\n",
              "      <td>109</td>\n",
              "      <td>P</td>\n",
              "    </tr>\n",
              "    <tr>\n",
              "      <th>1</th>\n",
              "      <td>23</td>\n",
              "      <td>F</td>\n",
              "      <td>f</td>\n",
              "      <td>f</td>\n",
              "      <td>f</td>\n",
              "      <td>f</td>\n",
              "      <td>f</td>\n",
              "      <td>f</td>\n",
              "      <td>f</td>\n",
              "      <td>4.10</td>\n",
              "      <td>2.0000</td>\n",
              "      <td>102</td>\n",
              "      <td>0.995</td>\n",
              "      <td>110</td>\n",
              "      <td>P</td>\n",
              "    </tr>\n",
              "    <tr>\n",
              "      <th>2</th>\n",
              "      <td>46</td>\n",
              "      <td>M</td>\n",
              "      <td>f</td>\n",
              "      <td>f</td>\n",
              "      <td>f</td>\n",
              "      <td>f</td>\n",
              "      <td>f</td>\n",
              "      <td>f</td>\n",
              "      <td>f</td>\n",
              "      <td>0.98</td>\n",
              "      <td>2.0135</td>\n",
              "      <td>109</td>\n",
              "      <td>0.910</td>\n",
              "      <td>120</td>\n",
              "      <td>P</td>\n",
              "    </tr>\n",
              "    <tr>\n",
              "      <th>3</th>\n",
              "      <td>70</td>\n",
              "      <td>F</td>\n",
              "      <td>f</td>\n",
              "      <td>f</td>\n",
              "      <td>f</td>\n",
              "      <td>f</td>\n",
              "      <td>f</td>\n",
              "      <td>f</td>\n",
              "      <td>f</td>\n",
              "      <td>0.16</td>\n",
              "      <td>1.9000</td>\n",
              "      <td>175</td>\n",
              "      <td>0.995</td>\n",
              "      <td>110</td>\n",
              "      <td>P</td>\n",
              "    </tr>\n",
              "    <tr>\n",
              "      <th>4</th>\n",
              "      <td>70</td>\n",
              "      <td>F</td>\n",
              "      <td>f</td>\n",
              "      <td>f</td>\n",
              "      <td>f</td>\n",
              "      <td>f</td>\n",
              "      <td>f</td>\n",
              "      <td>f</td>\n",
              "      <td>f</td>\n",
              "      <td>0.72</td>\n",
              "      <td>1.2000</td>\n",
              "      <td>61</td>\n",
              "      <td>0.870</td>\n",
              "      <td>70</td>\n",
              "      <td>P</td>\n",
              "    </tr>\n",
              "  </tbody>\n",
              "</table>\n",
              "</div>\n",
              "    <div class=\"colab-df-buttons\">\n",
              "\n",
              "  <div class=\"colab-df-container\">\n",
              "    <button class=\"colab-df-convert\" onclick=\"convertToInteractive('df-f52f11fc-4e3c-4d65-933d-7eb911c47bf1')\"\n",
              "            title=\"Convert this dataframe to an interactive table.\"\n",
              "            style=\"display:none;\">\n",
              "\n",
              "  <svg xmlns=\"http://www.w3.org/2000/svg\" height=\"24px\" viewBox=\"0 -960 960 960\">\n",
              "    <path d=\"M120-120v-720h720v720H120Zm60-500h600v-160H180v160Zm220 220h160v-160H400v160Zm0 220h160v-160H400v160ZM180-400h160v-160H180v160Zm440 0h160v-160H620v160ZM180-180h160v-160H180v160Zm440 0h160v-160H620v160Z\"/>\n",
              "  </svg>\n",
              "    </button>\n",
              "\n",
              "  <style>\n",
              "    .colab-df-container {\n",
              "      display:flex;\n",
              "      gap: 12px;\n",
              "    }\n",
              "\n",
              "    .colab-df-convert {\n",
              "      background-color: #E8F0FE;\n",
              "      border: none;\n",
              "      border-radius: 50%;\n",
              "      cursor: pointer;\n",
              "      display: none;\n",
              "      fill: #1967D2;\n",
              "      height: 32px;\n",
              "      padding: 0 0 0 0;\n",
              "      width: 32px;\n",
              "    }\n",
              "\n",
              "    .colab-df-convert:hover {\n",
              "      background-color: #E2EBFA;\n",
              "      box-shadow: 0px 1px 2px rgba(60, 64, 67, 0.3), 0px 1px 3px 1px rgba(60, 64, 67, 0.15);\n",
              "      fill: #174EA6;\n",
              "    }\n",
              "\n",
              "    .colab-df-buttons div {\n",
              "      margin-bottom: 4px;\n",
              "    }\n",
              "\n",
              "    [theme=dark] .colab-df-convert {\n",
              "      background-color: #3B4455;\n",
              "      fill: #D2E3FC;\n",
              "    }\n",
              "\n",
              "    [theme=dark] .colab-df-convert:hover {\n",
              "      background-color: #434B5C;\n",
              "      box-shadow: 0px 1px 3px 1px rgba(0, 0, 0, 0.15);\n",
              "      filter: drop-shadow(0px 1px 2px rgba(0, 0, 0, 0.3));\n",
              "      fill: #FFFFFF;\n",
              "    }\n",
              "  </style>\n",
              "\n",
              "    <script>\n",
              "      const buttonEl =\n",
              "        document.querySelector('#df-f52f11fc-4e3c-4d65-933d-7eb911c47bf1 button.colab-df-convert');\n",
              "      buttonEl.style.display =\n",
              "        google.colab.kernel.accessAllowed ? 'block' : 'none';\n",
              "\n",
              "      async function convertToInteractive(key) {\n",
              "        const element = document.querySelector('#df-f52f11fc-4e3c-4d65-933d-7eb911c47bf1');\n",
              "        const dataTable =\n",
              "          await google.colab.kernel.invokeFunction('convertToInteractive',\n",
              "                                                    [key], {});\n",
              "        if (!dataTable) return;\n",
              "\n",
              "        const docLinkHtml = 'Like what you see? Visit the ' +\n",
              "          '<a target=\"_blank\" href=https://colab.research.google.com/notebooks/data_table.ipynb>data table notebook</a>'\n",
              "          + ' to learn more about interactive tables.';\n",
              "        element.innerHTML = '';\n",
              "        dataTable['output_type'] = 'display_data';\n",
              "        await google.colab.output.renderOutput(dataTable, element);\n",
              "        const docLink = document.createElement('div');\n",
              "        docLink.innerHTML = docLinkHtml;\n",
              "        element.appendChild(docLink);\n",
              "      }\n",
              "    </script>\n",
              "  </div>\n",
              "\n",
              "\n",
              "<div id=\"df-06ae712e-d049-4180-8fd1-4024132825b5\">\n",
              "  <button class=\"colab-df-quickchart\" onclick=\"quickchart('df-06ae712e-d049-4180-8fd1-4024132825b5')\"\n",
              "            title=\"Suggest charts\"\n",
              "            style=\"display:none;\">\n",
              "\n",
              "<svg xmlns=\"http://www.w3.org/2000/svg\" height=\"24px\"viewBox=\"0 0 24 24\"\n",
              "     width=\"24px\">\n",
              "    <g>\n",
              "        <path d=\"M19 3H5c-1.1 0-2 .9-2 2v14c0 1.1.9 2 2 2h14c1.1 0 2-.9 2-2V5c0-1.1-.9-2-2-2zM9 17H7v-7h2v7zm4 0h-2V7h2v10zm4 0h-2v-4h2v4z\"/>\n",
              "    </g>\n",
              "</svg>\n",
              "  </button>\n",
              "\n",
              "<style>\n",
              "  .colab-df-quickchart {\n",
              "      --bg-color: #E8F0FE;\n",
              "      --fill-color: #1967D2;\n",
              "      --hover-bg-color: #E2EBFA;\n",
              "      --hover-fill-color: #174EA6;\n",
              "      --disabled-fill-color: #AAA;\n",
              "      --disabled-bg-color: #DDD;\n",
              "  }\n",
              "\n",
              "  [theme=dark] .colab-df-quickchart {\n",
              "      --bg-color: #3B4455;\n",
              "      --fill-color: #D2E3FC;\n",
              "      --hover-bg-color: #434B5C;\n",
              "      --hover-fill-color: #FFFFFF;\n",
              "      --disabled-bg-color: #3B4455;\n",
              "      --disabled-fill-color: #666;\n",
              "  }\n",
              "\n",
              "  .colab-df-quickchart {\n",
              "    background-color: var(--bg-color);\n",
              "    border: none;\n",
              "    border-radius: 50%;\n",
              "    cursor: pointer;\n",
              "    display: none;\n",
              "    fill: var(--fill-color);\n",
              "    height: 32px;\n",
              "    padding: 0;\n",
              "    width: 32px;\n",
              "  }\n",
              "\n",
              "  .colab-df-quickchart:hover {\n",
              "    background-color: var(--hover-bg-color);\n",
              "    box-shadow: 0 1px 2px rgba(60, 64, 67, 0.3), 0 1px 3px 1px rgba(60, 64, 67, 0.15);\n",
              "    fill: var(--button-hover-fill-color);\n",
              "  }\n",
              "\n",
              "  .colab-df-quickchart-complete:disabled,\n",
              "  .colab-df-quickchart-complete:disabled:hover {\n",
              "    background-color: var(--disabled-bg-color);\n",
              "    fill: var(--disabled-fill-color);\n",
              "    box-shadow: none;\n",
              "  }\n",
              "\n",
              "  .colab-df-spinner {\n",
              "    border: 2px solid var(--fill-color);\n",
              "    border-color: transparent;\n",
              "    border-bottom-color: var(--fill-color);\n",
              "    animation:\n",
              "      spin 1s steps(1) infinite;\n",
              "  }\n",
              "\n",
              "  @keyframes spin {\n",
              "    0% {\n",
              "      border-color: transparent;\n",
              "      border-bottom-color: var(--fill-color);\n",
              "      border-left-color: var(--fill-color);\n",
              "    }\n",
              "    20% {\n",
              "      border-color: transparent;\n",
              "      border-left-color: var(--fill-color);\n",
              "      border-top-color: var(--fill-color);\n",
              "    }\n",
              "    30% {\n",
              "      border-color: transparent;\n",
              "      border-left-color: var(--fill-color);\n",
              "      border-top-color: var(--fill-color);\n",
              "      border-right-color: var(--fill-color);\n",
              "    }\n",
              "    40% {\n",
              "      border-color: transparent;\n",
              "      border-right-color: var(--fill-color);\n",
              "      border-top-color: var(--fill-color);\n",
              "    }\n",
              "    60% {\n",
              "      border-color: transparent;\n",
              "      border-right-color: var(--fill-color);\n",
              "    }\n",
              "    80% {\n",
              "      border-color: transparent;\n",
              "      border-right-color: var(--fill-color);\n",
              "      border-bottom-color: var(--fill-color);\n",
              "    }\n",
              "    90% {\n",
              "      border-color: transparent;\n",
              "      border-bottom-color: var(--fill-color);\n",
              "    }\n",
              "  }\n",
              "</style>\n",
              "\n",
              "  <script>\n",
              "    async function quickchart(key) {\n",
              "      const quickchartButtonEl =\n",
              "        document.querySelector('#' + key + ' button');\n",
              "      quickchartButtonEl.disabled = true;  // To prevent multiple clicks.\n",
              "      quickchartButtonEl.classList.add('colab-df-spinner');\n",
              "      try {\n",
              "        const charts = await google.colab.kernel.invokeFunction(\n",
              "            'suggestCharts', [key], {});\n",
              "      } catch (error) {\n",
              "        console.error('Error during call to suggestCharts:', error);\n",
              "      }\n",
              "      quickchartButtonEl.classList.remove('colab-df-spinner');\n",
              "      quickchartButtonEl.classList.add('colab-df-quickchart-complete');\n",
              "    }\n",
              "    (() => {\n",
              "      let quickchartButtonEl =\n",
              "        document.querySelector('#df-06ae712e-d049-4180-8fd1-4024132825b5 button');\n",
              "      quickchartButtonEl.style.display =\n",
              "        google.colab.kernel.accessAllowed ? 'block' : 'none';\n",
              "    })();\n",
              "  </script>\n",
              "</div>\n",
              "\n",
              "    </div>\n",
              "  </div>\n"
            ],
            "application/vnd.google.colaboratory.intrinsic+json": {
              "type": "dataframe",
              "variable_name": "thyroid_df",
              "summary": "{\n  \"name\": \"thyroid_df\",\n  \"rows\": 3620,\n  \"fields\": [\n    {\n      \"column\": \"age\",\n      \"properties\": {\n        \"dtype\": \"number\",\n        \"std\": 18,\n        \"min\": 1,\n        \"max\": 94,\n        \"num_unique_values\": 92,\n        \"samples\": [\n          76,\n          34,\n          19\n        ],\n        \"semantic_type\": \"\",\n        \"description\": \"\"\n      }\n    },\n    {\n      \"column\": \"sex\",\n      \"properties\": {\n        \"dtype\": \"category\",\n        \"num_unique_values\": 2,\n        \"samples\": [\n          \"M\",\n          \"F\"\n        ],\n        \"semantic_type\": \"\",\n        \"description\": \"\"\n      }\n    },\n    {\n      \"column\": \"sick\",\n      \"properties\": {\n        \"dtype\": \"category\",\n        \"num_unique_values\": 2,\n        \"samples\": [\n          \"t\",\n          \"f\"\n        ],\n        \"semantic_type\": \"\",\n        \"description\": \"\"\n      }\n    },\n    {\n      \"column\": \"pregnant\",\n      \"properties\": {\n        \"dtype\": \"category\",\n        \"num_unique_values\": 2,\n        \"samples\": [\n          \"t\",\n          \"f\"\n        ],\n        \"semantic_type\": \"\",\n        \"description\": \"\"\n      }\n    },\n    {\n      \"column\": \"thyroid surgery\",\n      \"properties\": {\n        \"dtype\": \"category\",\n        \"num_unique_values\": 2,\n        \"samples\": [\n          \"t\",\n          \"f\"\n        ],\n        \"semantic_type\": \"\",\n        \"description\": \"\"\n      }\n    },\n    {\n      \"column\": \"I131 treatment\",\n      \"properties\": {\n        \"dtype\": \"category\",\n        \"num_unique_values\": 2,\n        \"samples\": [\n          \"t\",\n          \"f\"\n        ],\n        \"semantic_type\": \"\",\n        \"description\": \"\"\n      }\n    },\n    {\n      \"column\": \"lithium\",\n      \"properties\": {\n        \"dtype\": \"category\",\n        \"num_unique_values\": 2,\n        \"samples\": [\n          \"t\",\n          \"f\"\n        ],\n        \"semantic_type\": \"\",\n        \"description\": \"\"\n      }\n    },\n    {\n      \"column\": \"goitre\",\n      \"properties\": {\n        \"dtype\": \"category\",\n        \"num_unique_values\": 2,\n        \"samples\": [\n          \"t\",\n          \"f\"\n        ],\n        \"semantic_type\": \"\",\n        \"description\": \"\"\n      }\n    },\n    {\n      \"column\": \"tumor\",\n      \"properties\": {\n        \"dtype\": \"category\",\n        \"num_unique_values\": 2,\n        \"samples\": [\n          \"t\",\n          \"f\"\n        ],\n        \"semantic_type\": \"\",\n        \"description\": \"\"\n      }\n    },\n    {\n      \"column\": \"TSH\",\n      \"properties\": {\n        \"dtype\": \"number\",\n        \"std\": 22.43280531088551,\n        \"min\": 0.005,\n        \"max\": 530.0,\n        \"num_unique_values\": 286,\n        \"samples\": [\n          2.4,\n          30.5\n        ],\n        \"semantic_type\": \"\",\n        \"description\": \"\"\n      }\n    },\n    {\n      \"column\": \"T3\",\n      \"properties\": {\n        \"dtype\": \"number\",\n        \"std\": 0.7389688951915172,\n        \"min\": 0.05,\n        \"max\": 10.6,\n        \"num_unique_values\": 70,\n        \"samples\": [\n          1.0,\n          2.5\n        ],\n        \"semantic_type\": \"\",\n        \"description\": \"\"\n      }\n    },\n    {\n      \"column\": \"TT4\",\n      \"properties\": {\n        \"dtype\": \"number\",\n        \"std\": 34,\n        \"min\": 2,\n        \"max\": 430,\n        \"num_unique_values\": 234,\n        \"samples\": [\n          141,\n          301\n        ],\n        \"semantic_type\": \"\",\n        \"description\": \"\"\n      }\n    },\n    {\n      \"column\": \"T4U\",\n      \"properties\": {\n        \"dtype\": \"number\",\n        \"std\": 0.18522316869210753,\n        \"min\": 0.25,\n        \"max\": 2.32,\n        \"num_unique_values\": 146,\n        \"samples\": [\n          1.24,\n          1.4\n        ],\n        \"semantic_type\": \"\",\n        \"description\": \"\"\n      }\n    },\n    {\n      \"column\": \"FTI\",\n      \"properties\": {\n        \"dtype\": \"number\",\n        \"std\": 31,\n        \"min\": 2,\n        \"max\": 395,\n        \"num_unique_values\": 224,\n        \"samples\": [\n          121,\n          86\n        ],\n        \"semantic_type\": \"\",\n        \"description\": \"\"\n      }\n    },\n    {\n      \"column\": \"Label\",\n      \"properties\": {\n        \"dtype\": \"category\",\n        \"num_unique_values\": 2,\n        \"samples\": [\n          \"N\",\n          \"P\"\n        ],\n        \"semantic_type\": \"\",\n        \"description\": \"\"\n      }\n    }\n  ]\n}"
            }
          },
          "metadata": {},
          "execution_count": 39
        }
      ]
    },
    {
      "cell_type": "markdown",
      "source": [
        "## **Conclusion**"
      ],
      "metadata": {
        "id": "FN_cDfe9JQmf"
      }
    },
    {
      "cell_type": "markdown",
      "source": [
        "### Thyroid disease is one of the diseases that afflict the world’s population, and the number of cases of this disease is increasing. Because of medical reports that show serious imbalances in thyroid diseases, ourstudy deals with the classification of thyroid disease between hyperthyroidism and hypothyroidism. This disease was classified using algorithms. Machine learning showed us good results using several algorithms and was built in the form of two models."
      ],
      "metadata": {
        "id": "ylejW_USJQmf"
      }
    }
  ]
}