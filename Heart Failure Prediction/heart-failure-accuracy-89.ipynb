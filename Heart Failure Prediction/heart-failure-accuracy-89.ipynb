{
 "cells": [
  {
   "cell_type": "code",
   "execution_count": 1,
   "id": "1d4847d9",
   "metadata": {
    "_cell_guid": "b1076dfc-b9ad-4769-8c92-a6c4dae69d19",
    "_uuid": "8f2839f25d086af736a60e9eeb907d3b93b6e0e5",
    "execution": {
     "iopub.execute_input": "2024-06-07T20:10:54.164155Z",
     "iopub.status.busy": "2024-06-07T20:10:54.163116Z",
     "iopub.status.idle": "2024-06-07T20:10:56.386014Z",
     "shell.execute_reply": "2024-06-07T20:10:56.385046Z"
    },
    "papermill": {
     "duration": 2.232767,
     "end_time": "2024-06-07T20:10:56.388634",
     "exception": false,
     "start_time": "2024-06-07T20:10:54.155867",
     "status": "completed"
    },
    "tags": []
   },
   "outputs": [],
   "source": [
    "import pandas as pd\n",
    "import numpy as np \n",
    "import seaborn as sns\n",
    "import matplotlib.pyplot as plot"
   ]
  },
  {
   "cell_type": "code",
   "execution_count": 2,
   "id": "579ba871",
   "metadata": {
    "execution": {
     "iopub.execute_input": "2024-06-07T20:10:56.401315Z",
     "iopub.status.busy": "2024-06-07T20:10:56.400138Z",
     "iopub.status.idle": "2024-06-07T20:10:56.454740Z",
     "shell.execute_reply": "2024-06-07T20:10:56.453238Z"
    },
    "papermill": {
     "duration": 0.063205,
     "end_time": "2024-06-07T20:10:56.457153",
     "exception": false,
     "start_time": "2024-06-07T20:10:56.393948",
     "status": "completed"
    },
    "tags": []
   },
   "outputs": [
    {
     "name": "stdout",
     "output_type": "stream",
     "text": [
      "Age               0\n",
      "Sex               0\n",
      "ChestPainType     0\n",
      "RestingBP         0\n",
      "Cholesterol       0\n",
      "FastingBS         0\n",
      "RestingECG        0\n",
      "MaxHR             0\n",
      "ExerciseAngina    0\n",
      "Oldpeak           0\n",
      "ST_Slope          0\n",
      "HeartDisease      0\n",
      "dtype: int64\n",
      "<class 'pandas.core.frame.DataFrame'>\n",
      "RangeIndex: 918 entries, 0 to 917\n",
      "Data columns (total 12 columns):\n",
      " #   Column          Non-Null Count  Dtype  \n",
      "---  ------          --------------  -----  \n",
      " 0   Age             918 non-null    int64  \n",
      " 1   Sex             918 non-null    object \n",
      " 2   ChestPainType   918 non-null    object \n",
      " 3   RestingBP       918 non-null    int64  \n",
      " 4   Cholesterol     918 non-null    int64  \n",
      " 5   FastingBS       918 non-null    int64  \n",
      " 6   RestingECG      918 non-null    object \n",
      " 7   MaxHR           918 non-null    int64  \n",
      " 8   ExerciseAngina  918 non-null    object \n",
      " 9   Oldpeak         918 non-null    float64\n",
      " 10  ST_Slope        918 non-null    object \n",
      " 11  HeartDisease    918 non-null    int64  \n",
      "dtypes: float64(1), int64(6), object(5)\n",
      "memory usage: 86.2+ KB\n",
      "None\n"
     ]
    }
   ],
   "source": [
    "df=pd.read_csv('/kaggle/input/heart-failure-prediction/heart.csv')\n",
    "print(df.isna().sum())\n",
    "print(df.info())\n",
    "plot.show()"
   ]
  },
  {
   "cell_type": "code",
   "execution_count": 3,
   "id": "15b51cb7",
   "metadata": {
    "execution": {
     "iopub.execute_input": "2024-06-07T20:10:56.469842Z",
     "iopub.status.busy": "2024-06-07T20:10:56.469007Z",
     "iopub.status.idle": "2024-06-07T20:10:56.479004Z",
     "shell.execute_reply": "2024-06-07T20:10:56.477829Z"
    },
    "papermill": {
     "duration": 0.018693,
     "end_time": "2024-06-07T20:10:56.481257",
     "exception": false,
     "start_time": "2024-06-07T20:10:56.462564",
     "status": "completed"
    },
    "tags": []
   },
   "outputs": [
    {
     "name": "stdout",
     "output_type": "stream",
     "text": [
      "0      M\n",
      "1      F\n",
      "2      M\n",
      "3      F\n",
      "4      M\n",
      "      ..\n",
      "913    M\n",
      "914    M\n",
      "915    M\n",
      "916    F\n",
      "917    M\n",
      "Name: Sex, Length: 918, dtype: object\n"
     ]
    },
    {
     "name": "stderr",
     "output_type": "stream",
     "text": [
      "/tmp/ipykernel_18/1275725335.py:2: FutureWarning: Downcasting behavior in `replace` is deprecated and will be removed in a future version. To retain the old behavior, explicitly call `result.infer_objects(copy=False)`. To opt-in to the future behavior, set `pd.set_option('future.no_silent_downcasting', True)`\n",
      "  df['Sex']=df['Sex'].replace(['M','F'],[1,0])\n"
     ]
    }
   ],
   "source": [
    "print(df['Sex'])\n",
    "df['Sex']=df['Sex'].replace(['M','F'],[1,0])"
   ]
  },
  {
   "cell_type": "markdown",
   "id": "6846213b",
   "metadata": {
    "papermill": {
     "duration": 0.005232,
     "end_time": "2024-06-07T20:10:56.491823",
     "exception": false,
     "start_time": "2024-06-07T20:10:56.486591",
     "status": "completed"
    },
    "tags": []
   },
   "source": []
  },
  {
   "cell_type": "code",
   "execution_count": 4,
   "id": "ee5154ab",
   "metadata": {
    "execution": {
     "iopub.execute_input": "2024-06-07T20:10:56.504362Z",
     "iopub.status.busy": "2024-06-07T20:10:56.503489Z",
     "iopub.status.idle": "2024-06-07T20:10:56.519439Z",
     "shell.execute_reply": "2024-06-07T20:10:56.518474Z"
    },
    "papermill": {
     "duration": 0.025663,
     "end_time": "2024-06-07T20:10:56.522703",
     "exception": false,
     "start_time": "2024-06-07T20:10:56.497040",
     "status": "completed"
    },
    "tags": []
   },
   "outputs": [
    {
     "name": "stdout",
     "output_type": "stream",
     "text": [
      "ChestPainType\n",
      "ASY    496\n",
      "NAP    203\n",
      "ATA    173\n",
      "TA      46\n",
      "Name: count, dtype: int64\n",
      "RestingECG\n",
      "Normal    552\n",
      "LVH       188\n",
      "ST        178\n",
      "Name: count, dtype: int64\n",
      "ST_Slope\n",
      "Flat    460\n",
      "Up      395\n",
      "Down     63\n",
      "Name: count, dtype: int64\n"
     ]
    },
    {
     "name": "stderr",
     "output_type": "stream",
     "text": [
      "/tmp/ipykernel_18/49124056.py:25: FutureWarning: Downcasting behavior in `replace` is deprecated and will be removed in a future version. To retain the old behavior, explicitly call `result.infer_objects(copy=False)`. To opt-in to the future behavior, set `pd.set_option('future.no_silent_downcasting', True)`\n",
      "  df['ExerciseAngina']=df['ExerciseAngina'].replace(['N','Y'],[0,1])\n"
     ]
    }
   ],
   "source": [
    "print(df['ChestPainType'].value_counts())\n",
    "print(df['RestingECG'].value_counts())\n",
    "print(df['ST_Slope'].value_counts())\n",
    "ChestPainType={\n",
    "    'ASY':0,\n",
    "    'NAP':1,\n",
    "    'ATA':2,\n",
    "    'TA':3\n",
    "    \n",
    "}\n",
    "RestingECG={\n",
    "    'Normal':0,\n",
    "    'LVH':1,\n",
    "    'ST':2\n",
    "    \n",
    "}\n",
    "ST_Slope={\n",
    "    'Up':2,\n",
    "    'Flat':1,\n",
    "    'Down':0\n",
    "}\n",
    "\n",
    "df['ChestPainType']=df['ChestPainType'].map(ChestPainType)\n",
    "df['RestingECG']=df['RestingECG'].map(RestingECG)\n",
    "df['ExerciseAngina']=df['ExerciseAngina'].replace(['N','Y'],[0,1])\n",
    "df['ST_Slope']=df['ST_Slope'].map(ST_Slope)"
   ]
  },
  {
   "cell_type": "code",
   "execution_count": 5,
   "id": "4a198c5e",
   "metadata": {
    "execution": {
     "iopub.execute_input": "2024-06-07T20:10:56.535521Z",
     "iopub.status.busy": "2024-06-07T20:10:56.535115Z",
     "iopub.status.idle": "2024-06-07T20:10:56.550107Z",
     "shell.execute_reply": "2024-06-07T20:10:56.549002Z"
    },
    "papermill": {
     "duration": 0.024246,
     "end_time": "2024-06-07T20:10:56.552558",
     "exception": false,
     "start_time": "2024-06-07T20:10:56.528312",
     "status": "completed"
    },
    "tags": []
   },
   "outputs": [
    {
     "name": "stdout",
     "output_type": "stream",
     "text": [
      "   Age  Sex  ChestPainType  RestingBP  Cholesterol  FastingBS  RestingECG  \\\n",
      "0   40    1              2        140          289          0           0   \n",
      "1   49    0              1        160          180          0           0   \n",
      "2   37    1              2        130          283          0           2   \n",
      "3   48    0              0        138          214          0           0   \n",
      "4   54    1              1        150          195          0           0   \n",
      "\n",
      "   MaxHR  ExerciseAngina  Oldpeak  ST_Slope  HeartDisease  \n",
      "0    172               0      0.0         2             0  \n",
      "1    156               0      1.0         1             1  \n",
      "2     98               0      0.0         2             0  \n",
      "3    108               1      1.5         1             1  \n",
      "4    122               0      0.0         2             0  \n"
     ]
    }
   ],
   "source": [
    "print(df.head())\n",
    "df=df.set_index('Age') "
   ]
  },
  {
   "cell_type": "code",
   "execution_count": 6,
   "id": "056d3677",
   "metadata": {
    "execution": {
     "iopub.execute_input": "2024-06-07T20:10:56.566224Z",
     "iopub.status.busy": "2024-06-07T20:10:56.565259Z",
     "iopub.status.idle": "2024-06-07T20:10:56.823610Z",
     "shell.execute_reply": "2024-06-07T20:10:56.822492Z"
    },
    "papermill": {
     "duration": 0.267817,
     "end_time": "2024-06-07T20:10:56.826083",
     "exception": false,
     "start_time": "2024-06-07T20:10:56.558266",
     "status": "completed"
    },
    "tags": []
   },
   "outputs": [
    {
     "data": {
      "image/png": "[encoded data removed]",
      "text/plain": [
       "<Figure size 640x480 with 1 Axes>"
      ]
     },
     "metadata": {},
     "output_type": "display_data"
    }
   ],
   "source": [
    "sns.boxplot(data=df,y='RestingBP')\n",
    "plot.title('RestingBP')\n",
    "df=df[(df['RestingBP']>=80)&(df['RestingBP']<=170)] \n",
    "plot.show()\n",
    "\n"
   ]
  },
  {
   "cell_type": "code",
   "execution_count": 7,
   "id": "85e8d13d",
   "metadata": {
    "execution": {
     "iopub.execute_input": "2024-06-07T20:10:56.840095Z",
     "iopub.status.busy": "2024-06-07T20:10:56.839283Z",
     "iopub.status.idle": "2024-06-07T20:10:57.083922Z",
     "shell.execute_reply": "2024-06-07T20:10:57.082805Z"
    },
    "papermill": {
     "duration": 0.254085,
     "end_time": "2024-06-07T20:10:57.086160",
     "exception": false,
     "start_time": "2024-06-07T20:10:56.832075",
     "status": "completed"
    },
    "tags": []
   },
   "outputs": [
    {
     "data": {
      "image/png": "[encoded data removed]",
      "text/plain": [
       "<Figure size 640x480 with 1 Axes>"
      ]
     },
     "metadata": {},
     "output_type": "display_data"
    }
   ],
   "source": [
    "sns.boxplot(data=df,y='Cholesterol')\n",
    "plot.title('Cholesterol')\n",
    "plot.show()\n",
    "df=df[(df['Cholesterol']<=360)&(df['Cholesterol']>=110)] "
   ]
  },
  {
   "cell_type": "code",
   "execution_count": 8,
   "id": "b3737201",
   "metadata": {
    "execution": {
     "iopub.execute_input": "2024-06-07T20:10:57.101382Z",
     "iopub.status.busy": "2024-06-07T20:10:57.100423Z",
     "iopub.status.idle": "2024-06-07T20:10:57.311913Z",
     "shell.execute_reply": "2024-06-07T20:10:57.310781Z"
    },
    "papermill": {
     "duration": 0.221605,
     "end_time": "2024-06-07T20:10:57.314132",
     "exception": false,
     "start_time": "2024-06-07T20:10:57.092527",
     "status": "completed"
    },
    "tags": []
   },
   "outputs": [
    {
     "data": {
      "image/png": "[encoded data removed]",
      "text/plain": [
       "<Figure size 640x480 with 1 Axes>"
      ]
     },
     "metadata": {},
     "output_type": "display_data"
    }
   ],
   "source": [
    "sns.boxplot(data=df,y='MaxHR')\n",
    "plot.title('MaxHR')\n",
    "plot.show()\n",
    "df=df[(df['MaxHR']>=75)] "
   ]
  },
  {
   "cell_type": "code",
   "execution_count": 9,
   "id": "8aa8169c",
   "metadata": {
    "execution": {
     "iopub.execute_input": "2024-06-07T20:10:57.329065Z",
     "iopub.status.busy": "2024-06-07T20:10:57.328634Z",
     "iopub.status.idle": "2024-06-07T20:10:57.493745Z",
     "shell.execute_reply": "2024-06-07T20:10:57.492532Z"
    },
    "papermill": {
     "duration": 0.175645,
     "end_time": "2024-06-07T20:10:57.496320",
     "exception": false,
     "start_time": "2024-06-07T20:10:57.320675",
     "status": "completed"
    },
    "tags": []
   },
   "outputs": [
    {
     "data": {
      "image/png": "[encoded data removed]",
      "text/plain": [
       "<Figure size 640x480 with 1 Axes>"
      ]
     },
     "metadata": {},
     "output_type": "display_data"
    }
   ],
   "source": [
    "sns.boxplot(data=df,y='Oldpeak')\n",
    "plot.title('Oldpeak')\n",
    "plot.show()\n",
    "df=df[(df['Oldpeak']>=-2)&(df['Oldpeak']<=3.7)] "
   ]
  },
  {
   "cell_type": "code",
   "execution_count": 10,
   "id": "fd98143e",
   "metadata": {
    "execution": {
     "iopub.execute_input": "2024-06-07T20:10:57.511953Z",
     "iopub.status.busy": "2024-06-07T20:10:57.511161Z",
     "iopub.status.idle": "2024-06-07T20:10:57.805558Z",
     "shell.execute_reply": "2024-06-07T20:10:57.804395Z"
    },
    "papermill": {
     "duration": 0.304724,
     "end_time": "2024-06-07T20:10:57.807906",
     "exception": false,
     "start_time": "2024-06-07T20:10:57.503182",
     "status": "completed"
    },
    "tags": []
   },
   "outputs": [
    {
     "name": "stderr",
     "output_type": "stream",
     "text": [
      "/opt/conda/lib/python3.10/site-packages/seaborn/_oldcore.py:1119: FutureWarning: use_inf_as_na option is deprecated and will be removed in a future version. Convert inf values to NaN before operating instead.\n",
      "  with pd.option_context('mode.use_inf_as_na', True):\n"
     ]
    },
    {
     "data": {
      "image/png": "[encoded data removed]",
      "text/plain": [
       "<Figure size 500x500 with 1 Axes>"
      ]
     },
     "metadata": {},
     "output_type": "display_data"
    }
   ],
   "source": [
    "sns.displot(data=df,x='HeartDisease')\n",
    "plot.show()\n"
   ]
  },
  {
   "cell_type": "code",
   "execution_count": 11,
   "id": "93452396",
   "metadata": {
    "execution": {
     "iopub.execute_input": "2024-06-07T20:10:57.823980Z",
     "iopub.status.busy": "2024-06-07T20:10:57.823572Z",
     "iopub.status.idle": "2024-06-07T20:10:58.167254Z",
     "shell.execute_reply": "2024-06-07T20:10:58.166194Z"
    },
    "papermill": {
     "duration": 0.354458,
     "end_time": "2024-06-07T20:10:58.169577",
     "exception": false,
     "start_time": "2024-06-07T20:10:57.815119",
     "status": "completed"
    },
    "tags": []
   },
   "outputs": [
    {
     "data": {
      "image/png": "[encoded data removed]",
      "text/plain": [
       "<Figure size 640x480 with 1 Axes>"
      ]
     },
     "metadata": {},
     "output_type": "display_data"
    }
   ],
   "source": [
    "\n",
    "sns.scatterplot(data=df,x='HeartDisease',y='ExerciseAngina',hue='ChestPainType')\n",
    "plot.show()\n"
   ]
  },
  {
   "cell_type": "code",
   "execution_count": 12,
   "id": "1ec7cea6",
   "metadata": {
    "execution": {
     "iopub.execute_input": "2024-06-07T20:10:58.187285Z",
     "iopub.status.busy": "2024-06-07T20:10:58.186223Z",
     "iopub.status.idle": "2024-06-07T20:10:58.560730Z",
     "shell.execute_reply": "2024-06-07T20:10:58.559579Z"
    },
    "papermill": {
     "duration": 0.38591,
     "end_time": "2024-06-07T20:10:58.563280",
     "exception": false,
     "start_time": "2024-06-07T20:10:58.177370",
     "status": "completed"
    },
    "tags": []
   },
   "outputs": [],
   "source": [
    "import numpy as np\n",
    "import pandas as pd\n",
    "from sklearn.model_selection import train_test_split\n",
    "from sklearn.metrics import classification_report\n",
    "from sklearn import metrics\n",
    "from sklearn import svm"
   ]
  },
  {
   "cell_type": "code",
   "execution_count": 13,
   "id": "81a06756",
   "metadata": {
    "execution": {
     "iopub.execute_input": "2024-06-07T20:10:58.581140Z",
     "iopub.status.busy": "2024-06-07T20:10:58.580759Z",
     "iopub.status.idle": "2024-06-07T20:10:58.587283Z",
     "shell.execute_reply": "2024-06-07T20:10:58.586291Z"
    },
    "papermill": {
     "duration": 0.017793,
     "end_time": "2024-06-07T20:10:58.589529",
     "exception": false,
     "start_time": "2024-06-07T20:10:58.571736",
     "status": "completed"
    },
    "tags": []
   },
   "outputs": [],
   "source": [
    "\n",
    "x=df.drop('HeartDisease',axis=1)\n",
    "y=df['HeartDisease']\n"
   ]
  },
  {
   "cell_type": "code",
   "execution_count": 14,
   "id": "ee29b2c8",
   "metadata": {
    "execution": {
     "iopub.execute_input": "2024-06-07T20:10:58.606174Z",
     "iopub.status.busy": "2024-06-07T20:10:58.605754Z",
     "iopub.status.idle": "2024-06-07T20:10:58.611592Z",
     "shell.execute_reply": "2024-06-07T20:10:58.610400Z"
    },
    "papermill": {
     "duration": 0.017152,
     "end_time": "2024-06-07T20:10:58.614100",
     "exception": false,
     "start_time": "2024-06-07T20:10:58.596948",
     "status": "completed"
    },
    "tags": []
   },
   "outputs": [
    {
     "name": "stdout",
     "output_type": "stream",
     "text": [
      "(689, 10)\n",
      "(689,)\n"
     ]
    }
   ],
   "source": [
    "print(x.shape)\n",
    "print(y.shape)"
   ]
  },
  {
   "cell_type": "code",
   "execution_count": 15,
   "id": "5f0e9a84",
   "metadata": {
    "execution": {
     "iopub.execute_input": "2024-06-07T20:10:58.631296Z",
     "iopub.status.busy": "2024-06-07T20:10:58.630848Z",
     "iopub.status.idle": "2024-06-07T20:10:58.640322Z",
     "shell.execute_reply": "2024-06-07T20:10:58.639303Z"
    },
    "papermill": {
     "duration": 0.020948,
     "end_time": "2024-06-07T20:10:58.642719",
     "exception": false,
     "start_time": "2024-06-07T20:10:58.621771",
     "status": "completed"
    },
    "tags": []
   },
   "outputs": [],
   "source": [
    "X_train, X_test, y_train, y_test = train_test_split(x, y, test_size=0.30, \n",
    "random_state=0)"
   ]
  },
  {
   "cell_type": "code",
   "execution_count": 16,
   "id": "0b55d6d7",
   "metadata": {
    "execution": {
     "iopub.execute_input": "2024-06-07T20:10:58.660826Z",
     "iopub.status.busy": "2024-06-07T20:10:58.660433Z",
     "iopub.status.idle": "2024-06-07T20:10:58.676859Z",
     "shell.execute_reply": "2024-06-07T20:10:58.675669Z"
    },
    "papermill": {
     "duration": 0.028612,
     "end_time": "2024-06-07T20:10:58.679734",
     "exception": false,
     "start_time": "2024-06-07T20:10:58.651122",
     "status": "completed"
    },
    "tags": []
   },
   "outputs": [
    {
     "name": "stdout",
     "output_type": "stream",
     "text": [
      "     Sex  ChestPainType  RestingBP  Cholesterol  FastingBS  RestingECG  MaxHR  \\\n",
      "Age                                                                             \n",
      "55     1              0        160          289          0           1    145   \n",
      "60     1              0        142          216          0           0    110   \n",
      "48     0              1        120          195          0           0    125   \n",
      "59     1              1        150          212          1           0    157   \n",
      "38     1              1        145          292          0           0    130   \n",
      "..   ...            ...        ...          ...        ...         ...    ...   \n",
      "55     1              0        135          204          1           2    126   \n",
      "48     1              0        106          263          1           0    110   \n",
      "52     1              2        120          325          0           0    172   \n",
      "43     1              0        110          211          0           0    161   \n",
      "45     1              3        110          264          0           0    132   \n",
      "\n",
      "     ExerciseAngina  Oldpeak  ST_Slope  \n",
      "Age                                     \n",
      "55                1      0.8         1  \n",
      "60                1      2.5         1  \n",
      "48                0      0.0         2  \n",
      "59                0      1.6         2  \n",
      "38                0      0.0         2  \n",
      "..              ...      ...       ...  \n",
      "55                1      1.1         1  \n",
      "48                0      0.0         1  \n",
      "52                0      0.2         2  \n",
      "43                0      0.0         2  \n",
      "45                0      1.2         1  \n",
      "\n",
      "[482 rows x 10 columns] Age\n",
      "55    1\n",
      "60    1\n",
      "48    0\n",
      "59    0\n",
      "38    0\n",
      "     ..\n",
      "55    1\n",
      "48    1\n",
      "52    0\n",
      "43    0\n",
      "45    1\n",
      "Name: HeartDisease, Length: 482, dtype: int64\n",
      "     Sex  ChestPainType  RestingBP  Cholesterol  FastingBS  RestingECG  MaxHR  \\\n",
      "Age                                                                             \n",
      "42     0              1        115          211          0           2    137   \n",
      "48     1              1        124          255          1           0    175   \n",
      "41     1              2        120          291          0           2    160   \n",
      "44     1              1        140          235          0           1    180   \n",
      "42     1              0        140          226          0           0    178   \n",
      "..   ...            ...        ...          ...        ...         ...    ...   \n",
      "35     1              2        120          308          0           1    180   \n",
      "48     1              2        130          245          0           1    180   \n",
      "44     0              1        118          242          0           0    149   \n",
      "63     1              0        130          254          0           1    147   \n",
      "39     1              1        160          147          1           0    160   \n",
      "\n",
      "     ExerciseAngina  Oldpeak  ST_Slope  \n",
      "Age                                     \n",
      "42                0      0.0         2  \n",
      "48                0      0.0         2  \n",
      "41                0      0.0         2  \n",
      "44                0      0.0         2  \n",
      "42                0      0.0         2  \n",
      "..              ...      ...       ...  \n",
      "35                0      0.0         2  \n",
      "48                0      0.2         1  \n",
      "44                0      0.3         1  \n",
      "63                0      1.4         1  \n",
      "39                0      0.0         2  \n",
      "\n",
      "[207 rows x 10 columns] Age\n",
      "42    0\n",
      "48    0\n",
      "41    0\n",
      "44    0\n",
      "42    0\n",
      "     ..\n",
      "35    0\n",
      "48    0\n",
      "44    0\n",
      "63    1\n",
      "39    0\n",
      "Name: HeartDisease, Length: 207, dtype: int64\n"
     ]
    }
   ],
   "source": [
    "print (X_train,y_train)\n",
    "print (X_test,y_test)\n",
    "\n",
    "clf = svm.LinearSVC(dual=False)"
   ]
  },
  {
   "cell_type": "code",
   "execution_count": 17,
   "id": "21008914",
   "metadata": {
    "execution": {
     "iopub.execute_input": "2024-06-07T20:10:58.697703Z",
     "iopub.status.busy": "2024-06-07T20:10:58.696748Z",
     "iopub.status.idle": "2024-06-07T20:10:58.701880Z",
     "shell.execute_reply": "2024-06-07T20:10:58.700770Z"
    },
    "papermill": {
     "duration": 0.0167,
     "end_time": "2024-06-07T20:10:58.704249",
     "exception": false,
     "start_time": "2024-06-07T20:10:58.687549",
     "status": "completed"
    },
    "tags": []
   },
   "outputs": [],
   "source": [
    "k = svm.LinearSVC(dual=False)\n"
   ]
  },
  {
   "cell_type": "code",
   "execution_count": 18,
   "id": "cfd10252",
   "metadata": {
    "execution": {
     "iopub.execute_input": "2024-06-07T20:10:58.721346Z",
     "iopub.status.busy": "2024-06-07T20:10:58.720950Z",
     "iopub.status.idle": "2024-06-07T20:10:58.737335Z",
     "shell.execute_reply": "2024-06-07T20:10:58.736281Z"
    },
    "papermill": {
     "duration": 0.027576,
     "end_time": "2024-06-07T20:10:58.739549",
     "exception": false,
     "start_time": "2024-06-07T20:10:58.711973",
     "status": "completed"
    },
    "tags": []
   },
   "outputs": [
    {
     "data": {
      "text/html": [
       "<style>#sk-container-id-1 {color: black;background-color: white;}#sk-container-id-1 pre{padding: 0;}#sk-container-id-1 div.sk-toggleable {background-color: white;}#sk-container-id-1 label.sk-toggleable__label {cursor: pointer;display: block;width: 100%;margin-bottom: 0;padding: 0.3em;box-sizing: border-box;text-align: center;}#sk-container-id-1 label.sk-toggleable__label-arrow:before {content: \"▸\";float: left;margin-right: 0.25em;color: #696969;}#sk-container-id-1 label.sk-toggleable__label-arrow:hover:before {color: black;}#sk-container-id-1 div.sk-estimator:hover label.sk-toggleable__label-arrow:before {color: black;}#sk-container-id-1 div.sk-toggleable__content {max-height: 0;max-width: 0;overflow: hidden;text-align: left;background-color: #f0f8ff;}#sk-container-id-1 div.sk-toggleable__content pre {margin: 0.2em;color: black;border-radius: 0.25em;background-color: #f0f8ff;}#sk-container-id-1 input.sk-toggleable__control:checked~div.sk-toggleable__content {max-height: 200px;max-width: 100%;overflow: auto;}#sk-container-id-1 input.sk-toggleable__control:checked~label.sk-toggleable__label-arrow:before {content: \"▾\";}#sk-container-id-1 div.sk-estimator input.sk-toggleable__control:checked~label.sk-toggleable__label {background-color: #d4ebff;}#sk-container-id-1 div.sk-label input.sk-toggleable__control:checked~label.sk-toggleable__label {background-color: #d4ebff;}#sk-container-id-1 input.sk-hidden--visually {border: 0;clip: rect(1px 1px 1px 1px);clip: rect(1px, 1px, 1px, 1px);height: 1px;margin: -1px;overflow: hidden;padding: 0;position: absolute;width: 1px;}#sk-container-id-1 div.sk-estimator {font-family: monospace;background-color: #f0f8ff;border: 1px dotted black;border-radius: 0.25em;box-sizing: border-box;margin-bottom: 0.5em;}#sk-container-id-1 div.sk-estimator:hover {background-color: #d4ebff;}#sk-container-id-1 div.sk-parallel-item::after {content: \"\";width: 100%;border-bottom: 1px solid gray;flex-grow: 1;}#sk-container-id-1 div.sk-label:hover label.sk-toggleable__label {background-color: #d4ebff;}#sk-container-id-1 div.sk-serial::before {content: \"\";position: absolute;border-left: 1px solid gray;box-sizing: border-box;top: 0;bottom: 0;left: 50%;z-index: 0;}#sk-container-id-1 div.sk-serial {display: flex;flex-direction: column;align-items: center;background-color: white;padding-right: 0.2em;padding-left: 0.2em;position: relative;}#sk-container-id-1 div.sk-item {position: relative;z-index: 1;}#sk-container-id-1 div.sk-parallel {display: flex;align-items: stretch;justify-content: center;background-color: white;position: relative;}#sk-container-id-1 div.sk-item::before, #sk-container-id-1 div.sk-parallel-item::before {content: \"\";position: absolute;border-left: 1px solid gray;box-sizing: border-box;top: 0;bottom: 0;left: 50%;z-index: -1;}#sk-container-id-1 div.sk-parallel-item {display: flex;flex-direction: column;z-index: 1;position: relative;background-color: white;}#sk-container-id-1 div.sk-parallel-item:first-child::after {align-self: flex-end;width: 50%;}#sk-container-id-1 div.sk-parallel-item:last-child::after {align-self: flex-start;width: 50%;}#sk-container-id-1 div.sk-parallel-item:only-child::after {width: 0;}#sk-container-id-1 div.sk-dashed-wrapped {border: 1px dashed gray;margin: 0 0.4em 0.5em 0.4em;box-sizing: border-box;padding-bottom: 0.4em;background-color: white;}#sk-container-id-1 div.sk-label label {font-family: monospace;font-weight: bold;display: inline-block;line-height: 1.2em;}#sk-container-id-1 div.sk-label-container {text-align: center;}#sk-container-id-1 div.sk-container {/* jupyter's `normalize.less` sets `[hidden] { display: none; }` but bootstrap.min.css set `[hidden] { display: none !important; }` so we also need the `!important` here to be able to override the default hidden behavior on the sphinx rendered scikit-learn.org. See: https://github.com/scikit-learn/scikit-learn/issues/21755 */display: inline-block !important;position: relative;}#sk-container-id-1 div.sk-text-repr-fallback {display: none;}</style><div id=\"sk-container-id-1\" class=\"sk-top-container\"><div class=\"sk-text-repr-fallback\"><pre>LinearSVC(dual=False)</pre><b>In a Jupyter environment, please rerun this cell to show the HTML representation or trust the notebook. <br />On GitHub, the HTML representation is unable to render, please try loading this page with nbviewer.org.</b></div><div class=\"sk-container\" hidden><div class=\"sk-item\"><div class=\"sk-estimator sk-toggleable\"><input class=\"sk-toggleable__control sk-hidden--visually\" id=\"sk-estimator-id-1\" type=\"checkbox\" checked><label for=\"sk-estimator-id-1\" class=\"sk-toggleable__label sk-toggleable__label-arrow\">LinearSVC</label><div class=\"sk-toggleable__content\"><pre>LinearSVC(dual=False)</pre></div></div></div></div></div>"
      ],
      "text/plain": [
       "LinearSVC(dual=False)"
      ]
     },
     "execution_count": 18,
     "metadata": {},
     "output_type": "execute_result"
    }
   ],
   "source": [
    "k.fit(X_train,y_train)"
   ]
  },
  {
   "cell_type": "code",
   "execution_count": 19,
   "id": "db052863",
   "metadata": {
    "execution": {
     "iopub.execute_input": "2024-06-07T20:10:58.757228Z",
     "iopub.status.busy": "2024-06-07T20:10:58.756824Z",
     "iopub.status.idle": "2024-06-07T20:10:58.774372Z",
     "shell.execute_reply": "2024-06-07T20:10:58.773127Z"
    },
    "papermill": {
     "duration": 0.029384,
     "end_time": "2024-06-07T20:10:58.777006",
     "exception": false,
     "start_time": "2024-06-07T20:10:58.747622",
     "status": "completed"
    },
    "tags": []
   },
   "outputs": [
    {
     "name": "stdout",
     "output_type": "stream",
     "text": [
      "[0 0 0 0 0 0 0 1 1 0 0 1 1 0 1 0 0 1 0 0 0 1 1 1 1 0 0 0 1 0 1 1 0 0 0 1 0\n",
      " 1 0 0 0 0 0 0 0 1 0 1 0 1 0 1 0 0 1 0 0 1 1 1 1 0 0 0 1 0 1 1 0 0 1 0 0 0\n",
      " 1 1 1 1 1 1 0 1 0 1 1 0 1 0 0 1 1 1 1 0 1 0 0 0 1 0 1 1 1 1 1 1 0 0 1 1 1\n",
      " 1 0 0 0 1 1 1 0 0 1 0 1 0 1 1 0 1 0 1 0 0 0 1 1 1 1 1 1 0 0 0 1 0 0 1 0 0\n",
      " 1 1 1 0 1 0 0 0 1 0 1 1 0 1 1 0 1 1 0 1 0 1 1 0 0 1 0 0 1 1 0 1 1 1 0 0 1\n",
      " 1 0 1 1 0 1 0 1 1 0 0 0 0 1 1 1 0 0 0 0 1 0]\n",
      "              precision    recall  f1-score   support\n",
      "\n",
      "           0       0.91      0.88      0.90       109\n",
      "           1       0.87      0.91      0.89        98\n",
      "\n",
      "    accuracy                           0.89       207\n",
      "   macro avg       0.89      0.89      0.89       207\n",
      "weighted avg       0.89      0.89      0.89       207\n",
      "\n"
     ]
    }
   ],
   "source": [
    "ll= k.predict(X_test)\n",
    "print (ll)\n",
    "y_p = ll\n",
    "print(classification_report(y_test, y_p))"
   ]
  }
 ],
 "metadata": {
  "kaggle": {
   "accelerator": "none",
   "dataSources": [
    {
     "datasetId": 1582403,
     "sourceId": 2603715,
     "sourceType": "datasetVersion"
    }
   ],
   "dockerImageVersionId": 30732,
   "isGpuEnabled": false,
   "isInternetEnabled": true,
   "language": "python",
   "sourceType": "notebook"
  },
  "kernelspec": {
   "display_name": "Python 3",
   "language": "python",
   "name": "python3"
  },
  "language_info": {
   "codemirror_mode": {
    "name": "ipython",
    "version": 3
   },
   "file_extension": ".py",
   "mimetype": "text/x-python",
   "name": "python",
   "nbconvert_exporter": "python",
   "pygments_lexer": "ipython3",
   "version": "3.10.13"
  },
  "papermill": {
   "default_parameters": {},
   "duration": 8.030245,
   "end_time": "2024-06-07T20:10:59.406317",
   "environment_variables": {},
   "exception": null,
   "input_path": "__notebook__.ipynb",
   "output_path": "__notebook__.ipynb",
   "parameters": {},
   "start_time": "2024-06-07T20:10:51.376072",
   "version": "2.5.0"
  }
 },
 "nbformat": 4,
 "nbformat_minor": 5
}
